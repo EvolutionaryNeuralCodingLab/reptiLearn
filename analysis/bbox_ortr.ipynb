{
 "cells": [
  {
   "cell_type": "code",
   "execution_count": 15,
   "metadata": {},
   "outputs": [
    {
     "ename": "AttributeError",
     "evalue": "module 'posixpath' has no attribute 'append'",
     "output_type": "error",
     "traceback": [
      "\u001b[0;31m---------------------------------------------------------------------------\u001b[0m",
      "\u001b[0;31mAttributeError\u001b[0m                            Traceback (most recent call last)",
      "\u001b[0;32m<ipython-input-15-36ea9849331d>\u001b[0m in \u001b[0;36m<module>\u001b[0;34m\u001b[0m\n\u001b[1;32m      1\u001b[0m \u001b[0;32mimport\u001b[0m \u001b[0mos\u001b[0m\u001b[0;34m\u001b[0m\u001b[0;34m\u001b[0m\u001b[0m\n\u001b[0;32m----> 2\u001b[0;31m \u001b[0mos\u001b[0m\u001b[0;34m.\u001b[0m\u001b[0mpath\u001b[0m\u001b[0;34m.\u001b[0m\u001b[0mappend\u001b[0m\u001b[0;34m(\u001b[0m\u001b[0;34m\"../system\"\u001b[0m\u001b[0;34m)\u001b[0m\u001b[0;34m\u001b[0m\u001b[0;34m\u001b[0m\u001b[0m\n\u001b[0m",
      "\u001b[0;31mAttributeError\u001b[0m: module 'posixpath' has no attribute 'append'"
     ]
    }
   ],
   "source": [
    "import os\n",
    "os.path.append(\"../system\")"
   ]
  },
  {
   "cell_type": "code",
   "execution_count": 14,
   "metadata": {},
   "outputs": [
    {
     "ename": "ModuleNotFoundError",
     "evalue": "No module named 'sytem'",
     "output_type": "error",
     "traceback": [
      "\u001b[0;31m---------------------------------------------------------------------------\u001b[0m",
      "\u001b[0;31mModuleNotFoundError\u001b[0m                       Traceback (most recent call last)",
      "\u001b[0;32m<ipython-input-14-7ae616e95fd8>\u001b[0m in \u001b[0;36m<module>\u001b[0;34m\u001b[0m\n\u001b[0;32m----> 1\u001b[0;31m \u001b[0;32mimport\u001b[0m \u001b[0msytem\u001b[0m\u001b[0;34m.\u001b[0m\u001b[0mvisualize\u001b[0m\u001b[0;34m\u001b[0m\u001b[0;34m\u001b[0m\u001b[0m\n\u001b[0m\u001b[1;32m      2\u001b[0m \u001b[0;32mimport\u001b[0m \u001b[0mimage_observers\u001b[0m\u001b[0;34m.\u001b[0m\u001b[0mYOLOv4\u001b[0m\u001b[0;34m.\u001b[0m\u001b[0mdetector\u001b[0m \u001b[0;32mas\u001b[0m \u001b[0myolo\u001b[0m\u001b[0;34m\u001b[0m\u001b[0;34m\u001b[0m\u001b[0m\n\u001b[1;32m      3\u001b[0m \u001b[0;32mfrom\u001b[0m \u001b[0mpathlib\u001b[0m \u001b[0;32mimport\u001b[0m \u001b[0mPath\u001b[0m\u001b[0;34m\u001b[0m\u001b[0;34m\u001b[0m\u001b[0m\n\u001b[1;32m      4\u001b[0m \u001b[0;32mimport\u001b[0m \u001b[0mimportlib\u001b[0m \u001b[0;32mas\u001b[0m \u001b[0mimp\u001b[0m\u001b[0;34m\u001b[0m\u001b[0;34m\u001b[0m\u001b[0m\n\u001b[1;32m      5\u001b[0m \u001b[0;32mimport\u001b[0m \u001b[0mpandas\u001b[0m \u001b[0;32mas\u001b[0m \u001b[0mpd\u001b[0m\u001b[0;34m\u001b[0m\u001b[0;34m\u001b[0m\u001b[0m\n",
      "\u001b[0;31mModuleNotFoundError\u001b[0m: No module named 'sytem'"
     ]
    }
   ],
   "source": [
    "import system.visualize\n",
    "import image_observers.YOLOv4.detector as yolo\n",
    "from pathlib import Path\n",
    "import importlib as imp\n",
    "import pandas as pd\n",
    "import seaborn as sns\n",
    "import bbox\n",
    "import matplotlib.pyplot as plt\n",
    "import config.config\n",
    "import glob\n",
    "import undistort\n",
    "from matplotlib.collections import LineCollection\n",
    "import numpy as np"
   ]
  },
  {
   "cell_type": "code",
   "execution_count": 105,
   "metadata": {},
   "outputs": [],
   "source": [
    "det = yolo.YOLOv4Detector(cfg_path='image_observers/YOLOv4/yolo4_2306.cfg', weights_path='image_observers/YOLOv4/yolo4_reptilearn260421_best.weights', return_neareast_detection=True)\n",
    "det.load()"
   ]
  },
  {
   "cell_type": "markdown",
   "metadata": {},
   "source": [
    "# Analyze video  "
   ]
  },
  {
   "cell_type": "code",
   "execution_count": 153,
   "metadata": {},
   "outputs": [],
   "source": [
    "dir_path= \"/data/reptilearn/experiments/pg20_exp3_20210519_115034\"\n",
    "head_bbox_path= Path(os.path.join(dir_path,'head_bbox.csv'))\n",
    "head_bbox_df = pd.read_csv(str(head_bbox_path))\n",
    "bboxes = pd.DataFrame(columns=[\"x1\", \"y1\", \"x2\", \"y2\", \"conf\"])\n",
    "vids = glob.glob(dir_path+'/top*mp4')\n",
    "vid_path = Path(vids[0])\n",
    "g_lst=[]\n",
    "vid_path=Path(\"/data/reptilearn/experiments/pv20_exp3_20210519_133447/top_20210519-133448.mp4\")"
   ]
  },
  {
   "cell_type": "code",
   "execution_count": 154,
   "metadata": {},
   "outputs": [],
   "source": [
    "def detect_frame(orig_frame, write_frame, frame_counter):\n",
    "    bbox = det.detect_image(orig_frame)\n",
    "    bboxes.loc[bboxes.shape[0]] = bbox  "
   ]
  },
  {
   "cell_type": "code",
   "execution_count": 155,
   "metadata": {},
   "outputs": [],
   "source": [
    "def detect_frame(orig_frame, write_frame, frame_counter):\n",
    "    bbox = det.detect_image(orig_frame)\n",
    "    g_lst.append(bbox)\n",
    "    bboxes.loc[bboxes.shape[0]] = bbox   "
   ]
  },
  {
   "cell_type": "code",
   "execution_count": 156,
   "metadata": {},
   "outputs": [
    {
     "data": {
      "application/vnd.jupyter.widget-view+json": {
       "model_id": "cfaeaef7dbe34fc6b36d49fb47dfe730",
       "version_major": 2,
       "version_minor": 0
      },
      "text/plain": [
       "  0%|          | 0/128521 [00:00<?, ?it/s]"
      ]
     },
     "metadata": {},
     "output_type": "display_data"
    }
   ],
   "source": [
    "visualize.process_video(vid_path, None, [detect_frame], start_frame=0, num_frames=None)"
   ]
  },
  {
   "cell_type": "code",
   "execution_count": 157,
   "metadata": {},
   "outputs": [
    {
     "data": {
      "text/plain": [
       "((21548, 5), (128521, 5))"
      ]
     },
     "execution_count": 157,
     "metadata": {},
     "output_type": "execute_result"
    }
   ],
   "source": [
    "bboxes[bboxes['x1'].isna()].shape, bboxes.shape"
   ]
  },
  {
   "cell_type": "code",
   "execution_count": 158,
   "metadata": {},
   "outputs": [
    {
     "data": {
      "application/vnd.jupyter.widget-view+json": {
       "model_id": "e5e16cc2bdf946178c14efe558b00758",
       "version_major": 2,
       "version_minor": 0
      },
      "text/plain": [
       "  0%|          | 0/128521 [00:00<?, ?it/s]"
      ]
     },
     "metadata": {},
     "output_type": "display_data"
    }
   ],
   "source": [
    "visualize.process_video(vid_path, \"/home/ortom/reptilelearn/vid_out.mp4\", [\n",
    "    visualize.offline_centroid_visualizer(bboxes.to_numpy(),color=(255,0,0),window_size=1, dot_radius=10)\n",
    "    ], num_frames=None)"
   ]
  },
  {
   "cell_type": "code",
   "execution_count": 143,
   "metadata": {},
   "outputs": [
    {
     "data": {
      "text/plain": [
       "(1229709651, 1846, 0, 33, 97788)"
      ]
     },
     "execution_count": 143,
     "metadata": {},
     "output_type": "execute_result"
    }
   ],
   "source": [
    "nans=0\n",
    "poor=0\n",
    "others=0\n",
    "none=0\n",
    "for arr in g_lst:\n",
    "    try:\n",
    "        conf=arr[4]\n",
    "    except:\n",
    "        none+=1\n",
    "        others+=1\n",
    "        continue\n",
    "    if np.isnan(conf):\n",
    "        nans+=1\n",
    "    elif conf<0.8:\n",
    "        poor+=1\n",
    "    others+=1\n",
    "none_sum,none,nans,poor,others"
   ]
  },
  {
   "cell_type": "markdown",
   "metadata": {},
   "source": [
    "## New weights (26.4.21)\n",
    "1846/97788 misses on 2nd video (possibly all good because of true negatives)"
   ]
  },
  {
   "cell_type": "markdown",
   "metadata": {},
   "source": [
    "# Heat map"
   ]
  },
  {
   "cell_type": "code",
   "execution_count": 144,
   "metadata": {},
   "outputs": [],
   "source": [
    "undist_bboxes = undistort.undistort_data(bboxes, 1440, 1080, config.config.undistort_flir_blackfly_computar)"
   ]
  },
  {
   "cell_type": "code",
   "execution_count": 145,
   "metadata": {},
   "outputs": [
    {
     "data": {
      "text/html": [
       "<div>\n",
       "<style scoped>\n",
       "    .dataframe tbody tr th:only-of-type {\n",
       "        vertical-align: middle;\n",
       "    }\n",
       "\n",
       "    .dataframe tbody tr th {\n",
       "        vertical-align: top;\n",
       "    }\n",
       "\n",
       "    .dataframe thead th {\n",
       "        text-align: right;\n",
       "    }\n",
       "</style>\n",
       "<table border=\"1\" class=\"dataframe\">\n",
       "  <thead>\n",
       "    <tr style=\"text-align: right;\">\n",
       "      <th></th>\n",
       "      <th>x1</th>\n",
       "      <th>y1</th>\n",
       "      <th>x2</th>\n",
       "      <th>y2</th>\n",
       "      <th>conf</th>\n",
       "    </tr>\n",
       "  </thead>\n",
       "  <tbody>\n",
       "    <tr>\n",
       "      <th>0</th>\n",
       "      <td>656.377175</td>\n",
       "      <td>873.636989</td>\n",
       "      <td>740.903547</td>\n",
       "      <td>960.468715</td>\n",
       "      <td>0.995870</td>\n",
       "    </tr>\n",
       "    <tr>\n",
       "      <th>1</th>\n",
       "      <td>655.989041</td>\n",
       "      <td>873.707133</td>\n",
       "      <td>741.069825</td>\n",
       "      <td>960.802434</td>\n",
       "      <td>0.995900</td>\n",
       "    </tr>\n",
       "    <tr>\n",
       "      <th>2</th>\n",
       "      <td>656.017894</td>\n",
       "      <td>873.642061</td>\n",
       "      <td>741.024640</td>\n",
       "      <td>960.733680</td>\n",
       "      <td>0.995898</td>\n",
       "    </tr>\n",
       "    <tr>\n",
       "      <th>3</th>\n",
       "      <td>656.110530</td>\n",
       "      <td>873.369300</td>\n",
       "      <td>740.901477</td>\n",
       "      <td>960.589469</td>\n",
       "      <td>0.995850</td>\n",
       "    </tr>\n",
       "    <tr>\n",
       "      <th>4</th>\n",
       "      <td>656.302387</td>\n",
       "      <td>873.535999</td>\n",
       "      <td>741.010432</td>\n",
       "      <td>960.751905</td>\n",
       "      <td>0.995901</td>\n",
       "    </tr>\n",
       "    <tr>\n",
       "      <th>...</th>\n",
       "      <td>...</td>\n",
       "      <td>...</td>\n",
       "      <td>...</td>\n",
       "      <td>...</td>\n",
       "      <td>...</td>\n",
       "    </tr>\n",
       "    <tr>\n",
       "      <th>97783</th>\n",
       "      <td>1271.777978</td>\n",
       "      <td>473.690930</td>\n",
       "      <td>1409.706989</td>\n",
       "      <td>578.085401</td>\n",
       "      <td>0.993151</td>\n",
       "    </tr>\n",
       "    <tr>\n",
       "      <th>97784</th>\n",
       "      <td>1273.041793</td>\n",
       "      <td>473.877134</td>\n",
       "      <td>1410.215958</td>\n",
       "      <td>578.422348</td>\n",
       "      <td>0.992790</td>\n",
       "    </tr>\n",
       "    <tr>\n",
       "      <th>97785</th>\n",
       "      <td>1270.539984</td>\n",
       "      <td>474.159628</td>\n",
       "      <td>1412.083178</td>\n",
       "      <td>577.267432</td>\n",
       "      <td>0.993250</td>\n",
       "    </tr>\n",
       "    <tr>\n",
       "      <th>97786</th>\n",
       "      <td>1271.411771</td>\n",
       "      <td>474.086406</td>\n",
       "      <td>1410.527800</td>\n",
       "      <td>577.578809</td>\n",
       "      <td>0.992131</td>\n",
       "    </tr>\n",
       "    <tr>\n",
       "      <th>97787</th>\n",
       "      <td>1273.532355</td>\n",
       "      <td>473.803869</td>\n",
       "      <td>1410.704144</td>\n",
       "      <td>578.113809</td>\n",
       "      <td>0.992550</td>\n",
       "    </tr>\n",
       "  </tbody>\n",
       "</table>\n",
       "<p>97788 rows × 5 columns</p>\n",
       "</div>"
      ],
      "text/plain": [
       "                x1          y1           x2          y2      conf\n",
       "0       656.377175  873.636989   740.903547  960.468715  0.995870\n",
       "1       655.989041  873.707133   741.069825  960.802434  0.995900\n",
       "2       656.017894  873.642061   741.024640  960.733680  0.995898\n",
       "3       656.110530  873.369300   740.901477  960.589469  0.995850\n",
       "4       656.302387  873.535999   741.010432  960.751905  0.995901\n",
       "...            ...         ...          ...         ...       ...\n",
       "97783  1271.777978  473.690930  1409.706989  578.085401  0.993151\n",
       "97784  1273.041793  473.877134  1410.215958  578.422348  0.992790\n",
       "97785  1270.539984  474.159628  1412.083178  577.267432  0.993250\n",
       "97786  1271.411771  474.086406  1410.527800  577.578809  0.992131\n",
       "97787  1273.532355  473.803869  1410.704144  578.113809  0.992550\n",
       "\n",
       "[97788 rows x 5 columns]"
      ]
     },
     "execution_count": 145,
     "metadata": {},
     "output_type": "execute_result"
    }
   ],
   "source": [
    "undist_bboxes"
   ]
  },
  {
   "cell_type": "code",
   "execution_count": 146,
   "metadata": {},
   "outputs": [],
   "source": [
    "centroids = bbox.xyxy_to_centroid(undist_bboxes.to_numpy())\n",
    "cent_df = pd.DataFrame(centroids, columns=[\"x\", \"y\"])"
   ]
  },
  {
   "cell_type": "code",
   "execution_count": null,
   "metadata": {},
   "outputs": [],
   "source": []
  },
  {
   "cell_type": "code",
   "execution_count": 147,
   "metadata": {},
   "outputs": [
    {
     "data": {
      "text/html": [
       "<div>\n",
       "<style scoped>\n",
       "    .dataframe tbody tr th:only-of-type {\n",
       "        vertical-align: middle;\n",
       "    }\n",
       "\n",
       "    .dataframe tbody tr th {\n",
       "        vertical-align: top;\n",
       "    }\n",
       "\n",
       "    .dataframe thead th {\n",
       "        text-align: right;\n",
       "    }\n",
       "</style>\n",
       "<table border=\"1\" class=\"dataframe\">\n",
       "  <thead>\n",
       "    <tr style=\"text-align: right;\">\n",
       "      <th></th>\n",
       "      <th>x</th>\n",
       "      <th>y</th>\n",
       "    </tr>\n",
       "  </thead>\n",
       "  <tbody>\n",
       "    <tr>\n",
       "      <th>0</th>\n",
       "      <td>698.640361</td>\n",
       "      <td>917.052852</td>\n",
       "    </tr>\n",
       "    <tr>\n",
       "      <th>1</th>\n",
       "      <td>698.529433</td>\n",
       "      <td>917.254784</td>\n",
       "    </tr>\n",
       "    <tr>\n",
       "      <th>2</th>\n",
       "      <td>698.521267</td>\n",
       "      <td>917.187871</td>\n",
       "    </tr>\n",
       "    <tr>\n",
       "      <th>3</th>\n",
       "      <td>698.506003</td>\n",
       "      <td>916.979384</td>\n",
       "    </tr>\n",
       "    <tr>\n",
       "      <th>4</th>\n",
       "      <td>698.656410</td>\n",
       "      <td>917.143952</td>\n",
       "    </tr>\n",
       "    <tr>\n",
       "      <th>...</th>\n",
       "      <td>...</td>\n",
       "      <td>...</td>\n",
       "    </tr>\n",
       "    <tr>\n",
       "      <th>97783</th>\n",
       "      <td>1340.742483</td>\n",
       "      <td>525.888165</td>\n",
       "    </tr>\n",
       "    <tr>\n",
       "      <th>97784</th>\n",
       "      <td>1341.628875</td>\n",
       "      <td>526.149741</td>\n",
       "    </tr>\n",
       "    <tr>\n",
       "      <th>97785</th>\n",
       "      <td>1341.311581</td>\n",
       "      <td>525.713530</td>\n",
       "    </tr>\n",
       "    <tr>\n",
       "      <th>97786</th>\n",
       "      <td>1340.969785</td>\n",
       "      <td>525.832607</td>\n",
       "    </tr>\n",
       "    <tr>\n",
       "      <th>97787</th>\n",
       "      <td>1342.118249</td>\n",
       "      <td>525.958839</td>\n",
       "    </tr>\n",
       "  </tbody>\n",
       "</table>\n",
       "<p>97788 rows × 2 columns</p>\n",
       "</div>"
      ],
      "text/plain": [
       "                 x           y\n",
       "0       698.640361  917.052852\n",
       "1       698.529433  917.254784\n",
       "2       698.521267  917.187871\n",
       "3       698.506003  916.979384\n",
       "4       698.656410  917.143952\n",
       "...            ...         ...\n",
       "97783  1340.742483  525.888165\n",
       "97784  1341.628875  526.149741\n",
       "97785  1341.311581  525.713530\n",
       "97786  1340.969785  525.832607\n",
       "97787  1342.118249  525.958839\n",
       "\n",
       "[97788 rows x 2 columns]"
      ]
     },
     "execution_count": 147,
     "metadata": {},
     "output_type": "execute_result"
    }
   ],
   "source": [
    "cent_df"
   ]
  },
  {
   "cell_type": "code",
   "execution_count": 151,
   "metadata": {},
   "outputs": [
    {
     "data": {
      "application/vnd.jupyter.widget-view+json": {
       "model_id": "7889428f83be487180cc4ce9b7752250",
       "version_major": 2,
       "version_minor": 0
      },
      "text/plain": [
       "Canvas(toolbar=Toolbar(toolitems=[('Home', 'Reset original view', 'home', 'home'), ('Back', 'Back to previous …"
      ]
     },
     "metadata": {},
     "output_type": "display_data"
    }
   ],
   "source": [
    "with open(\"/home/ortom/reptilelearn/\"+os.path.basename(vid_path)+\".csv\",'w') as newcsv:\n",
    "    for ls in cent_df.values.tolist():\n",
    "        ls=[str(i) for i in ls]\n",
    "        newcsv.write(str(','.join(ls))+'\\n')\n",
    "\n",
    "\n",
    "%matplotlib widget\n",
    "plt.clf()\n",
    "ax = sns.histplot(cent_df, x=\"x\", y=\"y\", cbar=True, stat=\"probability\", bins=(32, 27), color=\"blue\")\n",
    "\n",
    "\n",
    "ax.set_title(\"Distribution over time\")\n",
    "ax.figure.set_dpi(100)\n",
    "ax.figure.set_size_inches(9.2,4.8)\n",
    "#ax.set_xlim(0, 1440)\n",
    "#ax.set_ylim(0, 1080)\n",
    "ax.invert_yaxis()\n",
    "ax.figure.savefig(\"/home/ortom/reptilelearn/\"+os.path.basename(vid_path)+'_1.png')"
   ]
  },
  {
   "cell_type": "code",
   "execution_count": 102,
   "metadata": {},
   "outputs": [
    {
     "data": {
      "text/plain": [
       "[]"
      ]
     },
     "execution_count": 102,
     "metadata": {},
     "output_type": "execute_result"
    }
   ],
   "source": [
    "ax.lines"
   ]
  },
  {
   "cell_type": "code",
   "execution_count": 93,
   "metadata": {},
   "outputs": [
    {
     "data": {
      "application/vnd.jupyter.widget-view+json": {
       "model_id": "0b6dfbf30581429ca87ffd3e41180098",
       "version_major": 2,
       "version_minor": 0
      },
      "text/plain": [
       "Canvas(toolbar=Toolbar(toolitems=[('Home', 'Reset original view', 'home', 'home'), ('Back', 'Back to previous …"
      ]
     },
     "metadata": {},
     "output_type": "display_data"
    }
   ],
   "source": [
    "#fig.clf()\n",
    "fig, ax = plt.subplots(1,1, dpi=100)\n",
    "ax.add_collection(LineCollection((centroids,), alpha=0.35, linewidths=[1]))\n",
    "ax.scatter(x=centroids[:, 0], y=centroids[:, 1], s=1, color=\"red\", zorder=100, alpha=0.2)\n",
    "#ax.set_xlim(0, 1440)\n",
    "#ax.set_ylim(0, 1080)\n",
    "ax.invert_yaxis()\n",
    "ax.set_xlabel(\"x\")\n",
    "ax.set_ylabel(\"y\")\n",
    "ax.set_title(\"Trajectory over time\")\n",
    "ax.set_aspect(1)\n",
    "ax.figure.savefig(\"/home/ortom/reptilelearn/\"+os.path.basename(dir_path)+'_2.png')"
   ]
  },
  {
   "cell_type": "code",
   "execution_count": 94,
   "metadata": {},
   "outputs": [
    {
     "ename": "AttributeError",
     "evalue": "'AxesSubplot' object has no attribute 'get_data'",
     "output_type": "error",
     "traceback": [
      "\u001b[0;31m---------------------------------------------------------------------------\u001b[0m",
      "\u001b[0;31mAttributeError\u001b[0m                            Traceback (most recent call last)",
      "\u001b[0;32m<ipython-input-94-cfc035cde297>\u001b[0m in \u001b[0;36m<module>\u001b[0;34m\u001b[0m\n\u001b[0;32m----> 1\u001b[0;31m \u001b[0max\u001b[0m\u001b[0;34m.\u001b[0m\u001b[0mget_data\u001b[0m\u001b[0;34m(\u001b[0m\u001b[0;34m)\u001b[0m\u001b[0;34m\u001b[0m\u001b[0;34m\u001b[0m\u001b[0m\n\u001b[0m",
      "\u001b[0;31mAttributeError\u001b[0m: 'AxesSubplot' object has no attribute 'get_data'"
     ]
    }
   ],
   "source": [
    "ax.get_data()"
   ]
  },
  {
   "cell_type": "code",
   "execution_count": 160,
   "metadata": {},
   "outputs": [],
   "source": [
    "xrange = np.nanmax(centroids[:, 0]) - np.nanmin(centroids[:, 0])\n",
    "yrange = np.nanmax(centroids[:, 1]) - np.nanmin(centroids[:, 1])"
   ]
  },
  {
   "cell_type": "code",
   "execution_count": 172,
   "metadata": {},
   "outputs": [
    {
     "data": {
      "text/plain": [
       "array([6.4, 4.8])"
      ]
     },
     "execution_count": 172,
     "metadata": {},
     "output_type": "execute_result"
    }
   ],
   "source": [
    "fig.get_size_inches()"
   ]
  },
  {
   "cell_type": "markdown",
   "metadata": {},
   "source": [
    "# Pose Estimation Video"
   ]
  },
  {
   "cell_type": "code",
   "execution_count": 6,
   "metadata": {},
   "outputs": [],
   "source": [
    "exp_path = Path(\"/media/sil2/regev/Pogona_Pursuit/Arena/Archived_Experiments/v1/anti-circle_20201104T142037/trial1/videos/\")"
   ]
  },
  {
   "cell_type": "code",
   "execution_count": 9,
   "metadata": {},
   "outputs": [],
   "source": [
    "vid_path = Path('/media/sil2/regev/Pogona_Pursuit/Arena/Archived_Experiments/v1/anti-circle_20201104T142037/trial1/videos/realtime_20201104T142039.avi')"
   ]
  },
  {
   "cell_type": "code",
   "execution_count": 11,
   "metadata": {},
   "outputs": [
    {
     "data": {
      "text/plain": [
       "[PosixPath('/media/sil2/regev/Pogona_Pursuit/Arena/Archived_Experiments/v1/anti-circle_20201104T142037/trial1/videos/pogona_pursuit_realtime_iteration3/realtime.mp4'),\n",
       " PosixPath('/media/sil2/regev/Pogona_Pursuit/Arena/Archived_Experiments/v1/anti-circle_20201104T142037/trial1/videos/pogona_pursuit_realtime_iteration3/realtime.csv')]"
      ]
     },
     "execution_count": 11,
     "metadata": {},
     "output_type": "execute_result"
    }
   ],
   "source": [
    "list((exp_path / \"pogona_pursuit_realtime_iteration3\").glob(\"*\"))"
   ]
  },
  {
   "cell_type": "code",
   "execution_count": null,
   "metadata": {},
   "outputs": [],
   "source": []
  }
 ],
 "metadata": {
  "kernelspec": {
   "display_name": "Python 3",
   "language": "python",
   "name": "python3"
  },
  "language_info": {
   "codemirror_mode": {
    "name": "ipython",
    "version": 3
   },
   "file_extension": ".py",
   "mimetype": "text/x-python",
   "name": "python",
   "nbconvert_exporter": "python",
   "pygments_lexer": "ipython3",
   "version": "3.8.5"
  }
 },
 "nbformat": 4,
 "nbformat_minor": 4
}
