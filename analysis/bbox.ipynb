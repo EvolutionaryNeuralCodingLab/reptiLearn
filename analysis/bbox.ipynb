{
 "cells": [
  {
   "cell_type": "code",
   "execution_count": 2,
   "metadata": {},
   "outputs": [],
   "source": [
    "import os\n",
    "os.chdir(\"../system\")"
   ]
  },
  {
   "cell_type": "code",
   "execution_count": 155,
   "metadata": {},
   "outputs": [],
   "source": [
    "import visualize\n",
    "import image_observers.YOLOv4.detector as yolo\n",
    "from pathlib import Path\n",
    "import importlib as imp\n",
    "import pandas as pd\n",
    "import seaborn as sns\n",
    "import bbox\n",
    "import matplotlib.pyplot as plt\n",
    "import config.config\n",
    "import undistort\n",
    "from matplotlib.collections import LineCollection\n",
    "import numpy as np"
   ]
  },
  {
   "cell_type": "code",
   "execution_count": 127,
   "metadata": {},
   "outputs": [
    {
     "data": {
      "text/plain": [
       "<module 'bbox' from '/home/tal/dev/reptilearn/system/bbox.py'>"
      ]
     },
     "execution_count": 127,
     "metadata": {},
     "output_type": "execute_result"
    }
   ],
   "source": [
    "imp.reload(visualize)\n",
    "imp.reload(bbox)"
   ]
  },
  {
   "cell_type": "code",
   "execution_count": 4,
   "metadata": {},
   "outputs": [],
   "source": [
    "vid_path = Path('/data/reptilearn/experiments/yolo_first_one_20210419-152027/top_20210419-152613.mp4')"
   ]
  },
  {
   "cell_type": "code",
   "execution_count": 9,
   "metadata": {},
   "outputs": [
    {
     "name": "stdout",
     "output_type": "stream",
     "text": [
      "YOLOv4 detector loaded successfully (416x416; image_observers/YOLOv4/yolo4_2306.cfg).\n"
     ]
    }
   ],
   "source": [
    "det = yolo.YOLOv4Detector(cfg_path='image_observers/YOLOv4/yolo4_2306.cfg', weights_path='image_observers/YOLOv4/yolo4_reptilearn260421_best.weights', return_neareast_detection=True)\n",
    "det.load()"
   ]
  },
  {
   "cell_type": "code",
   "execution_count": 15,
   "metadata": {},
   "outputs": [],
   "source": [
    "head_bbox_path = Path(\"/data/reptilearn/experiments/light_exp_try2_20210421-143906/head_bbox.csv\")"
   ]
  },
  {
   "cell_type": "code",
   "execution_count": 16,
   "metadata": {},
   "outputs": [],
   "source": [
    "head_bbox_df = pd.read_csv(str(head_bbox_path))"
   ]
  },
  {
   "cell_type": "code",
   "execution_count": 20,
   "metadata": {},
   "outputs": [
    {
     "data": {
      "text/plain": [
       "(9251, 6)"
      ]
     },
     "execution_count": 20,
     "metadata": {},
     "output_type": "execute_result"
    }
   ],
   "source": [
    "head_bbox_df[head_bbox_df['x1'].isna()].shape"
   ]
  },
  {
   "cell_type": "code",
   "execution_count": 21,
   "metadata": {},
   "outputs": [
    {
     "data": {
      "text/plain": [
       "(92862, 6)"
      ]
     },
     "execution_count": 21,
     "metadata": {},
     "output_type": "execute_result"
    }
   ],
   "source": [
    "head_bbox_df.shape"
   ]
  },
  {
   "cell_type": "markdown",
   "metadata": {},
   "source": [
    "# Missing frames"
   ]
  },
  {
   "cell_type": "code",
   "execution_count": null,
   "metadata": {},
   "outputs": [],
   "source": [
    "# 1st video - possibly bad focus\n",
    "vid_path = Path('/data/reptilearn/experiments/yolo_first_one_20210419-152027/top_20210419-152613.mp4')"
   ]
  },
  {
   "cell_type": "code",
   "execution_count": 6,
   "metadata": {},
   "outputs": [],
   "source": [
    "# 2nd video - possibly improved focus\n",
    "vid_path = Path('/data/reptilearn/experiments/light_exp_try2_20210421-143906/top_20210421-143907.mp4')"
   ]
  },
  {
   "cell_type": "code",
   "execution_count": 176,
   "metadata": {},
   "outputs": [],
   "source": [
    "# small example with aruco and nice pose\n",
    "vid_path = Path('/data/reptilearn/media/new_house5_top_20210504-153111.mp4')"
   ]
  },
  {
   "cell_type": "code",
   "execution_count": 8,
   "metadata": {},
   "outputs": [
    {
     "data": {
      "application/vnd.jupyter.widget-view+json": {
       "model_id": "85df5c284e494989ae3675dbc723c112",
       "version_major": 2,
       "version_minor": 0
      },
      "text/plain": [
       "  0%|          | 0/97788 [00:00<?, ?it/s]"
      ]
     },
     "metadata": {},
     "output_type": "display_data"
    }
   ],
   "source": [
    "visualize.process_video(vid_path, None, [visualize.missed_frames_saver(det, \"/home/tal/datasets/pogona_head_reptilearn/light_exp_try2_608\", draw_bbox=False)])"
   ]
  },
  {
   "cell_type": "markdown",
   "metadata": {},
   "source": [
    "1st video\n",
    "---------\n",
    "60295 missed / 159199 ! with 416x416\n",
    "66198 missed / 159199 ! with 608x608 worse(?)\n",
    "\n",
    "2nd video (some of the frames here are true negatives)\n",
    "---------\n",
    "25546 missed / 97788 with 416x416\n",
    "23072 missed / 97788 with 608x608"
   ]
  },
  {
   "cell_type": "markdown",
   "metadata": {},
   "source": [
    "# Analyze video  "
   ]
  },
  {
   "cell_type": "code",
   "execution_count": 178,
   "metadata": {},
   "outputs": [],
   "source": [
    "bboxes = pd.DataFrame(columns=[\"x1\", \"y1\", \"x2\", \"y2\", \"conf\"])"
   ]
  },
  {
   "cell_type": "code",
   "execution_count": 179,
   "metadata": {},
   "outputs": [],
   "source": [
    "def detect_frame(orig_frame, write_frame, frame_counter):\n",
    "    bbox = det.detect_image(orig_frame)\n",
    "    bboxes.loc[bboxes.shape[0]] = bbox"
   ]
  },
  {
   "cell_type": "code",
   "execution_count": 180,
   "metadata": {},
   "outputs": [
    {
     "data": {
      "application/vnd.jupyter.widget-view+json": {
       "model_id": "3ae919d3db0942b2b4eac0a702ff8061",
       "version_major": 2,
       "version_minor": 0
      },
      "text/plain": [
       "  0%|          | 0/1357 [00:00<?, ?it/s]"
      ]
     },
     "metadata": {},
     "output_type": "display_data"
    }
   ],
   "source": [
    "visualize.process_video(vid_path, None, [detect_frame], start_frame=0, num_frames=None)"
   ]
  },
  {
   "cell_type": "code",
   "execution_count": 181,
   "metadata": {},
   "outputs": [
    {
     "data": {
      "text/plain": [
       "((494, 5), (1357, 5))"
      ]
     },
     "execution_count": 181,
     "metadata": {},
     "output_type": "execute_result"
    }
   ],
   "source": [
    "bboxes[bboxes['x1'].isna()].shape, bboxes.shape"
   ]
  },
  {
   "cell_type": "markdown",
   "metadata": {},
   "source": [
    "## New weights (26.4.21)\n",
    "1846/97788 misses on 2nd video (possibly all good because of true negatives)"
   ]
  },
  {
   "cell_type": "code",
   "execution_count": 183,
   "metadata": {},
   "outputs": [
    {
     "data": {
      "application/vnd.jupyter.widget-view+json": {
       "model_id": "9fca9c1431d34f6c9421f7de0aa2db3b",
       "version_major": 2,
       "version_minor": 0
      },
      "text/plain": [
       "  0%|          | 0/1357 [00:00<?, ?it/s]"
      ]
     },
     "metadata": {},
     "output_type": "display_data"
    }
   ],
   "source": [
    "visualize.process_video(vid_path, \"../analysis/bboxes_for_presentation.mp4\", [\n",
    "    visualize.offline_bbox_visualizer(bboxes.to_numpy(),window_size=1, line_thickness=4)\n",
    "    ], num_frames=None)"
   ]
  },
  {
   "cell_type": "markdown",
   "metadata": {},
   "source": [
    "# Heat map"
   ]
  },
  {
   "cell_type": "code",
   "execution_count": 134,
   "metadata": {},
   "outputs": [],
   "source": [
    "undist_bboxes = undistort.undistort_data(bboxes, 1440, 1080, config.config.undistort_flir_blackfly_computar)"
   ]
  },
  {
   "cell_type": "code",
   "execution_count": 135,
   "metadata": {},
   "outputs": [],
   "source": [
    "centroids = bbox.xyxy_to_centroid(undist_bboxes.to_numpy())\n",
    "cent_df = pd.DataFrame(centroids, columns=[\"x\", \"y\"])"
   ]
  },
  {
   "cell_type": "code",
   "execution_count": 51,
   "metadata": {},
   "outputs": [
    {
     "data": {
      "text/html": [
       "<div>\n",
       "<style scoped>\n",
       "    .dataframe tbody tr th:only-of-type {\n",
       "        vertical-align: middle;\n",
       "    }\n",
       "\n",
       "    .dataframe tbody tr th {\n",
       "        vertical-align: top;\n",
       "    }\n",
       "\n",
       "    .dataframe thead th {\n",
       "        text-align: right;\n",
       "    }\n",
       "</style>\n",
       "<table border=\"1\" class=\"dataframe\">\n",
       "  <thead>\n",
       "    <tr style=\"text-align: right;\">\n",
       "      <th></th>\n",
       "      <th>x</th>\n",
       "      <th>y</th>\n",
       "    </tr>\n",
       "  </thead>\n",
       "  <tbody>\n",
       "    <tr>\n",
       "      <th>0</th>\n",
       "      <td>699.625916</td>\n",
       "      <td>800.537725</td>\n",
       "    </tr>\n",
       "    <tr>\n",
       "      <th>1</th>\n",
       "      <td>699.518066</td>\n",
       "      <td>800.494488</td>\n",
       "    </tr>\n",
       "    <tr>\n",
       "      <th>2</th>\n",
       "      <td>699.510071</td>\n",
       "      <td>800.478394</td>\n",
       "    </tr>\n",
       "    <tr>\n",
       "      <th>3</th>\n",
       "      <td>699.494263</td>\n",
       "      <td>800.459129</td>\n",
       "    </tr>\n",
       "    <tr>\n",
       "      <th>4</th>\n",
       "      <td>699.639648</td>\n",
       "      <td>800.622602</td>\n",
       "    </tr>\n",
       "    <tr>\n",
       "      <th>...</th>\n",
       "      <td>...</td>\n",
       "      <td>...</td>\n",
       "    </tr>\n",
       "    <tr>\n",
       "      <th>97783</th>\n",
       "      <td>1261.934937</td>\n",
       "      <td>897.104971</td>\n",
       "    </tr>\n",
       "    <tr>\n",
       "      <th>97784</th>\n",
       "      <td>1262.551270</td>\n",
       "      <td>897.707645</td>\n",
       "    </tr>\n",
       "    <tr>\n",
       "      <th>97785</th>\n",
       "      <td>1262.228882</td>\n",
       "      <td>896.321980</td>\n",
       "    </tr>\n",
       "    <tr>\n",
       "      <th>97786</th>\n",
       "      <td>1262.062500</td>\n",
       "      <td>896.765205</td>\n",
       "    </tr>\n",
       "    <tr>\n",
       "      <th>97787</th>\n",
       "      <td>1262.877075</td>\n",
       "      <td>897.752451</td>\n",
       "    </tr>\n",
       "  </tbody>\n",
       "</table>\n",
       "<p>97788 rows × 2 columns</p>\n",
       "</div>"
      ],
      "text/plain": [
       "                 x           y\n",
       "0       699.625916  800.537725\n",
       "1       699.518066  800.494488\n",
       "2       699.510071  800.478394\n",
       "3       699.494263  800.459129\n",
       "4       699.639648  800.622602\n",
       "...            ...         ...\n",
       "97783  1261.934937  897.104971\n",
       "97784  1262.551270  897.707645\n",
       "97785  1262.228882  896.321980\n",
       "97786  1262.062500  896.765205\n",
       "97787  1262.877075  897.752451\n",
       "\n",
       "[97788 rows x 2 columns]"
      ]
     },
     "execution_count": 51,
     "metadata": {},
     "output_type": "execute_result"
    }
   ],
   "source": [
    "cent_df"
   ]
  },
  {
   "cell_type": "code",
   "execution_count": 175,
   "metadata": {},
   "outputs": [
    {
     "data": {
      "application/vnd.jupyter.widget-view+json": {
       "model_id": "4a96c99c725442069119968d656be973",
       "version_major": 2,
       "version_minor": 0
      },
      "text/plain": [
       "Canvas(toolbar=Toolbar(toolitems=[('Home', 'Reset original view', 'home', 'home'), ('Back', 'Back to previous …"
      ]
     },
     "metadata": {},
     "output_type": "display_data"
    }
   ],
   "source": [
    "%matplotlib widget\n",
    "plt.clf()\n",
    "ax = sns.histplot(cent_df, x=\"x\", y=\"y\", cbar=True, stat=\"probability\", bins=(32, 18), color=\"red\")\n",
    "ax.set_title(\"Distribution over time\")\n",
    "ax.figure.set_dpi(100)\n",
    "ax.figure.set_size_inches(9.2,4.8)\n",
    "#ax.set_xlim(0, 1440)\n",
    "#ax.set_ylim(0, 1080)\n",
    "ax.invert_yaxis()"
   ]
  },
  {
   "cell_type": "code",
   "execution_count": 170,
   "metadata": {},
   "outputs": [
    {
     "data": {
      "application/vnd.jupyter.widget-view+json": {
       "model_id": "ca83c08f9fda4ac6ab02d5073fe734f4",
       "version_major": 2,
       "version_minor": 0
      },
      "text/plain": [
       "Canvas(toolbar=Toolbar(toolitems=[('Home', 'Reset original view', 'home', 'home'), ('Back', 'Back to previous …"
      ]
     },
     "metadata": {},
     "output_type": "display_data"
    }
   ],
   "source": [
    "fig.clf()\n",
    "fig, ax = plt.subplots(1,1, dpi=100)\n",
    "ax.add_collection(LineCollection((centroids,), alpha=0.35, linewidths=[1]))\n",
    "ax.scatter(x=centroids[:, 0], y=centroids[:, 1], s=1, color=\"red\", zorder=100, alpha=0.2)\n",
    "#ax.set_xlim(0, 1440)\n",
    "#ax.set_ylim(0, 1080)\n",
    "ax.invert_yaxis()\n",
    "ax.set_xlabel(\"x\")\n",
    "ax.set_ylabel(\"y\")\n",
    "ax.set_title(\"Trajectory over time\")\n",
    "ax.set_aspect(1)"
   ]
  },
  {
   "cell_type": "code",
   "execution_count": 160,
   "metadata": {},
   "outputs": [],
   "source": [
    "xrange = np.nanmax(centroids[:, 0]) - np.nanmin(centroids[:, 0])\n",
    "yrange = np.nanmax(centroids[:, 1]) - np.nanmin(centroids[:, 1])"
   ]
  },
  {
   "cell_type": "code",
   "execution_count": 172,
   "metadata": {},
   "outputs": [
    {
     "data": {
      "text/plain": [
       "array([6.4, 4.8])"
      ]
     },
     "execution_count": 172,
     "metadata": {},
     "output_type": "execute_result"
    }
   ],
   "source": [
    "fig.get_size_inches()"
   ]
  },
  {
   "cell_type": "code",
   "execution_count": null,
   "metadata": {},
   "outputs": [],
   "source": []
  }
 ],
 "metadata": {
  "kernelspec": {
   "display_name": "Python 3",
   "language": "python",
   "name": "python3"
  },
  "language_info": {
   "codemirror_mode": {
    "name": "ipython",
    "version": 3
   },
   "file_extension": ".py",
   "mimetype": "text/x-python",
   "name": "python",
   "nbconvert_exporter": "python",
   "pygments_lexer": "ipython3",
   "version": "3.8.5"
  }
 },
 "nbformat": 4,
 "nbformat_minor": 4
}
