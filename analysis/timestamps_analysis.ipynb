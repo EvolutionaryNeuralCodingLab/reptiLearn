{
 "cells": [
  {
   "cell_type": "code",
   "execution_count": 3,
   "metadata": {},
   "outputs": [],
   "source": [
    "import os\n",
    "os.chdir(\"../system\")"
   ]
  },
  {
   "cell_type": "code",
   "execution_count": 4,
   "metadata": {},
   "outputs": [],
   "source": [
    "import pandas as pd\n",
    "import numpy as np\n",
    "import matplotlib.pyplot as plt\n",
    "import seaborn as sns"
   ]
  },
  {
   "cell_type": "code",
   "execution_count": 53,
   "metadata": {},
   "outputs": [],
   "source": [
    "# example of reading video timestamp csv file.\n",
    "def date_parser(epoch_ns):\n",
    "    return pd.to_datetime(epoch_ns).tz_localize(\"UTC\").tz_convert(\"Asia/Jerusalem\")\n",
    "\n",
    "\n",
    "def analyze_timestamp_csv(csv_path):\n",
    "    tdf = pd.read_csv(\n",
    "        csv_path,\n",
    "    )\n",
    "    tdf[\"timestamp\"] = pd.to_datetime(tdf[\"timestamp\"],unit='s')\n",
    "    diff_secs = tdf[\"timestamp\"].diff() / np.timedelta64(1, 's')\n",
    "    freq = 1 / diff_secs.astype(\"float\")\n",
    "    fps = freq.mean()\n",
    "    sd_fps = freq.std()\n",
    "    n = len(tdf)\n",
    "\n",
    "    return {\"n\": n, \"diff\": diff_secs, \"freq\": freq, \"mean_fps\": fps, \"sd_fps\": sd_fps, \"df\": tdf}"
   ]
  },
  {
   "cell_type": "code",
   "execution_count": 54,
   "metadata": {},
   "outputs": [],
   "source": [
    "r = analyze_timestamp_csv(add_q[\"left\"])"
   ]
  },
  {
   "cell_type": "code",
   "execution_count": 55,
   "metadata": {},
   "outputs": [
    {
     "data": {
      "text/plain": [
       "0            NaN\n",
       "1       0.017719\n",
       "2       0.017673\n",
       "3       0.017659\n",
       "4       0.017659\n",
       "          ...   \n",
       "2733    0.017824\n",
       "2734    0.017805\n",
       "2735    0.017823\n",
       "2736    0.017822\n",
       "2737    0.017806\n",
       "Name: timestamp, Length: 2738, dtype: float64"
      ]
     },
     "execution_count": 55,
     "metadata": {},
     "output_type": "execute_result"
    }
   ],
   "source": [
    "r[\"diff\"]"
   ]
  },
  {
   "cell_type": "code",
   "execution_count": 30,
   "metadata": {},
   "outputs": [],
   "source": [
    "csvs = {\n",
    "    \"20349310\": \"videos/20349310_20210222-133916.csv\",\n",
    "    \"20349302\": \"videos/20349302_20210222-133916.csv\",\n",
    "    \"0138A051\": \"videos/0138A051_20210222-133916.csv\",\n",
    "}\n",
    "\n",
    "csvs2 = {\n",
    "    \"20349310\": \"videos/20349310_20210222-160529.csv\",\n",
    "    \"20349302\": \"videos/20349302_20210222-160529.csv\",\n",
    "    \"0138A051\": \"videos/0138A051_20210222-160529.csv\",    \n",
    "}"
   ]
  },
  {
   "cell_type": "code",
   "execution_count": 27,
   "metadata": {},
   "outputs": [
    {
     "ename": "NameError",
     "evalue": "name 'csvs' is not defined",
     "output_type": "error",
     "traceback": [
      "\u001b[0;31m---------------------------------------------------------------------------\u001b[0m",
      "\u001b[0;31mNameError\u001b[0m                                 Traceback (most recent call last)",
      "\u001b[0;32m<ipython-input-27-044f380fc51b>\u001b[0m in \u001b[0;36m<module>\u001b[0;34m\u001b[0m\n\u001b[0;32m----> 1\u001b[0;31m \u001b[0mresults\u001b[0m \u001b[0;34m=\u001b[0m \u001b[0;34m{\u001b[0m\u001b[0mk\u001b[0m\u001b[0;34m:\u001b[0m \u001b[0manalyze_timestamp_csv\u001b[0m\u001b[0;34m(\u001b[0m\u001b[0mv\u001b[0m\u001b[0;34m)\u001b[0m \u001b[0;32mfor\u001b[0m \u001b[0mk\u001b[0m\u001b[0;34m,\u001b[0m \u001b[0mv\u001b[0m \u001b[0;32min\u001b[0m \u001b[0mcsvs\u001b[0m\u001b[0;34m.\u001b[0m\u001b[0mitems\u001b[0m\u001b[0;34m(\u001b[0m\u001b[0;34m)\u001b[0m\u001b[0;34m}\u001b[0m\u001b[0;34m\u001b[0m\u001b[0;34m\u001b[0m\u001b[0m\n\u001b[0m",
      "\u001b[0;31mNameError\u001b[0m: name 'csvs' is not defined"
     ]
    }
   ],
   "source": [
    "results = {k: analyze_timestamp_csv(v) for k, v in csvs.items()}"
   ]
  },
  {
   "cell_type": "code",
   "execution_count": 35,
   "metadata": {},
   "outputs": [
    {
     "data": {
      "text/plain": [
       "(array([  1114.,      0.,      0.,  79178.,      0.,      0., 100728.,\n",
       "             0.,      0.,   5450.]),\n",
       " array([0.01684282, 0.01684754, 0.01685225, 0.01685696, 0.01686168,\n",
       "        0.01686639, 0.0168711 , 0.01687582, 0.01688053, 0.01688524,\n",
       "        0.01688996]),\n",
       " <BarContainer object of 10 artists>)"
      ]
     },
     "execution_count": 35,
     "metadata": {},
     "output_type": "execute_result"
    },
    {
     "data": {
      "image/png": "[encoded data removed]",
      "text/plain": [
       "<Figure size 432x288 with 1 Axes>"
      ]
     },
     "metadata": {
      "needs_background": "light"
     },
     "output_type": "display_data"
    }
   ],
   "source": [
    "plt.hist(results[\"20349302\"][1])"
   ]
  },
  {
   "cell_type": "code",
   "execution_count": 18,
   "metadata": {},
   "outputs": [
    {
     "data": {
      "text/html": [
       "<div>\n",
       "<style scoped>\n",
       "    .dataframe tbody tr th:only-of-type {\n",
       "        vertical-align: middle;\n",
       "    }\n",
       "\n",
       "    .dataframe tbody tr th {\n",
       "        vertical-align: top;\n",
       "    }\n",
       "\n",
       "    .dataframe thead th {\n",
       "        text-align: right;\n",
       "    }\n",
       "</style>\n",
       "<table border=\"1\" class=\"dataframe\">\n",
       "  <thead>\n",
       "    <tr style=\"text-align: right;\">\n",
       "      <th></th>\n",
       "    </tr>\n",
       "    <tr>\n",
       "      <th>timestamp</th>\n",
       "    </tr>\n",
       "  </thead>\n",
       "  <tbody>\n",
       "    <tr>\n",
       "      <th>2021-02-22 13:39:16.904609112+02:00</th>\n",
       "    </tr>\n",
       "    <tr>\n",
       "      <th>2021-02-22 13:39:16.921468231+02:00</th>\n",
       "    </tr>\n",
       "    <tr>\n",
       "      <th>2021-02-22 13:39:16.938341877+02:00</th>\n",
       "    </tr>\n",
       "    <tr>\n",
       "      <th>2021-02-22 13:39:16.955215710+02:00</th>\n",
       "    </tr>\n",
       "    <tr>\n",
       "      <th>2021-02-22 13:39:16.972074822+02:00</th>\n",
       "    </tr>\n",
       "    <tr>\n",
       "      <th>...</th>\n",
       "    </tr>\n",
       "    <tr>\n",
       "      <th>2021-02-22 14:31:42.171315395+02:00</th>\n",
       "    </tr>\n",
       "    <tr>\n",
       "      <th>2021-02-22 14:31:42.188189247+02:00</th>\n",
       "    </tr>\n",
       "    <tr>\n",
       "      <th>2021-02-22 14:31:42.205049070+02:00</th>\n",
       "    </tr>\n",
       "    <tr>\n",
       "      <th>2021-02-22 14:31:42.221922002+02:00</th>\n",
       "    </tr>\n",
       "    <tr>\n",
       "      <th>2021-02-22 14:31:42.238781377+02:00</th>\n",
       "    </tr>\n",
       "  </tbody>\n",
       "</table>\n",
       "<p>186471 rows × 0 columns</p>\n",
       "</div>"
      ],
      "text/plain": [
       "Empty DataFrame\n",
       "Columns: []\n",
       "Index: [2021-02-22 13:39:16.904609112+02:00, 2021-02-22 13:39:16.921468231+02:00, 2021-02-22 13:39:16.938341877+02:00, 2021-02-22 13:39:16.955215710+02:00, 2021-02-22 13:39:16.972074822+02:00, 2021-02-22 13:39:16.988948660+02:00, 2021-02-22 13:39:17.005822368+02:00, 2021-02-22 13:39:17.022681704+02:00, 2021-02-22 13:39:17.039540595+02:00, 2021-02-22 13:39:17.056399716+02:00, 2021-02-22 13:39:17.073258566+02:00, 2021-02-22 13:39:17.090132114+02:00, 2021-02-22 13:39:17.106991654+02:00, 2021-02-22 13:39:17.123864927+02:00, 2021-02-22 13:39:17.140738683+02:00, 2021-02-22 13:39:17.157597949+02:00, 2021-02-22 13:39:17.174471460+02:00, 2021-02-22 13:39:17.191331141+02:00, 2021-02-22 13:39:17.208189733+02:00, 2021-02-22 13:39:17.225063468+02:00, 2021-02-22 13:39:17.241922710+02:00, 2021-02-22 13:39:17.258796247+02:00, 2021-02-22 13:39:17.275669958+02:00, 2021-02-22 13:39:17.292529668+02:00, 2021-02-22 13:39:17.309387983+02:00, 2021-02-22 13:39:17.326261774+02:00, 2021-02-22 13:39:17.343135581+02:00, 2021-02-22 13:39:17.359995195+02:00, 2021-02-22 13:39:17.376868293+02:00, 2021-02-22 13:39:17.393727693+02:00, 2021-02-22 13:39:17.410586785+02:00, 2021-02-22 13:39:17.427460266+02:00, 2021-02-22 13:39:17.444319804+02:00, 2021-02-22 13:39:17.461192983+02:00, 2021-02-22 13:39:17.478052174+02:00, 2021-02-22 13:39:17.494911435+02:00, 2021-02-22 13:39:17.511770229+02:00, 2021-02-22 13:39:17.528629314+02:00, 2021-02-22 13:39:17.545502779+02:00, 2021-02-22 13:39:17.562376770+02:00, 2021-02-22 13:39:17.579235877+02:00, 2021-02-22 13:39:17.596109516+02:00, 2021-02-22 13:39:17.612969102+02:00, 2021-02-22 13:39:17.629842218+02:00, 2021-02-22 13:39:17.646701716+02:00, 2021-02-22 13:39:17.663560577+02:00, 2021-02-22 13:39:17.680434183+02:00, 2021-02-22 13:39:17.697293529+02:00, 2021-02-22 13:39:17.714166802+02:00, 2021-02-22 13:39:17.731026020+02:00, 2021-02-22 13:39:17.747899604+02:00, 2021-02-22 13:39:17.764759252+02:00, 2021-02-22 13:39:17.781617743+02:00, 2021-02-22 13:39:17.798477654+02:00, 2021-02-22 13:39:17.815335939+02:00, 2021-02-22 13:39:17.832209343+02:00, 2021-02-22 13:39:17.849068777+02:00, 2021-02-22 13:39:17.865927864+02:00, 2021-02-22 13:39:17.882801243+02:00, 2021-02-22 13:39:17.899660502+02:00, 2021-02-22 13:39:17.916534029+02:00, 2021-02-22 13:39:17.933407720+02:00, 2021-02-22 13:39:17.950267237+02:00, 2021-02-22 13:39:17.967140520+02:00, 2021-02-22 13:39:17.983999966+02:00, 2021-02-22 13:39:18.000858820+02:00, 2021-02-22 13:39:18.017732516+02:00, 2021-02-22 13:39:18.034591752+02:00, 2021-02-22 13:39:18.051465252+02:00, 2021-02-22 13:39:18.068324614+02:00, 2021-02-22 13:39:18.085198035+02:00, 2021-02-22 13:39:18.102057137+02:00, 2021-02-22 13:39:18.118930835+02:00, 2021-02-22 13:39:18.135790343+02:00, 2021-02-22 13:39:18.152649368+02:00, 2021-02-22 13:39:18.169522554+02:00, 2021-02-22 13:39:18.186382029+02:00, 2021-02-22 13:39:18.203241243+02:00, 2021-02-22 13:39:18.220099812+02:00, 2021-02-22 13:39:18.236958968+02:00, 2021-02-22 13:39:18.253818589+02:00, 2021-02-22 13:39:18.270676827+02:00, 2021-02-22 13:39:18.287550474+02:00, 2021-02-22 13:39:18.304410072+02:00, 2021-02-22 13:39:18.321269656+02:00, 2021-02-22 13:39:18.338127729+02:00, 2021-02-22 13:39:18.354986868+02:00, 2021-02-22 13:39:18.371860229+02:00, 2021-02-22 13:39:18.388719497+02:00, 2021-02-22 13:39:18.405593191+02:00, 2021-02-22 13:39:18.422466879+02:00, 2021-02-22 13:39:18.439326320+02:00, 2021-02-22 13:39:18.456185220+02:00, 2021-02-22 13:39:18.473058649+02:00, 2021-02-22 13:39:18.489918010+02:00, 2021-02-22 13:39:18.506776954+02:00, 2021-02-22 13:39:18.523650552+02:00, 2021-02-22 13:39:18.540524285+02:00, 2021-02-22 13:39:18.557383487+02:00, 2021-02-22 13:39:18.574257191+02:00, ...]\n",
       "\n",
       "[186471 rows x 0 columns]"
      ]
     },
     "execution_count": 18,
     "metadata": {},
     "output_type": "execute_result"
    }
   ],
   "source": [
    "results[\"20349302\"][-1]"
   ]
  },
  {
   "cell_type": "code",
   "execution_count": 127,
   "metadata": {},
   "outputs": [],
   "source": [
    "res2 = analyze_timestamp_csv(\"videos/right_camera_20210303-204258.csv\")"
   ]
  },
  {
   "cell_type": "code",
   "execution_count": 128,
   "metadata": {},
   "outputs": [
    {
     "data": {
      "text/plain": [
       "58.51248825134123"
      ]
     },
     "execution_count": 128,
     "metadata": {},
     "output_type": "execute_result"
    }
   ],
   "source": [
    "res2[3]"
   ]
  },
  {
   "cell_type": "code",
   "execution_count": 33,
   "metadata": {},
   "outputs": [],
   "source": [
    "results2 = {k: analyze_timestamp_csv(v) for k, v in csvs2.items()}"
   ]
  },
  {
   "cell_type": "code",
   "execution_count": 34,
   "metadata": {},
   "outputs": [
    {
     "data": {
      "text/plain": [
       "[424, 143, 429]"
      ]
     },
     "execution_count": 34,
     "metadata": {},
     "output_type": "execute_result"
    }
   ],
   "source": [
    "[r[0] for r in results2.values()]"
   ]
  },
  {
   "cell_type": "code",
   "execution_count": 75,
   "metadata": {},
   "outputs": [
    {
     "data": {
      "text/plain": [
       "186471"
      ]
     },
     "execution_count": 75,
     "metadata": {},
     "output_type": "execute_result"
    }
   ],
   "source": [
    "results[\"20349302\"][0]"
   ]
  },
  {
   "cell_type": "code",
   "execution_count": 129,
   "metadata": {},
   "outputs": [
    {
     "data": {
      "text/plain": [
       "(0.017090372620117585, 8.14489163210098e-06)"
      ]
     },
     "execution_count": 129,
     "metadata": {},
     "output_type": "execute_result"
    }
   ],
   "source": [
    "res2[1].mean(), res2[1].std()"
   ]
  },
  {
   "cell_type": "code",
   "execution_count": 130,
   "metadata": {},
   "outputs": [
    {
     "data": {
      "text/plain": [
       "2505600"
      ]
     },
     "execution_count": 130,
     "metadata": {},
     "output_type": "execute_result"
    }
   ],
   "source": [
    "res2[0]"
   ]
  },
  {
   "cell_type": "code",
   "execution_count": 134,
   "metadata": {},
   "outputs": [
    {
     "data": {
      "text/plain": [
       "(array([7.342000e+03, 0.000000e+00, 9.911410e+05, 1.720000e+03,\n",
       "        3.600810e+05, 1.094492e+06, 1.062000e+03, 4.973400e+04,\n",
       "        0.000000e+00, 2.700000e+01]),\n",
       " array([0.01706312, 0.01706964, 0.01707616, 0.01708267, 0.01708919,\n",
       "        0.01709571, 0.01710223, 0.01710875, 0.01711527, 0.01712179,\n",
       "        0.01712831]),\n",
       " <BarContainer object of 10 artists>)"
      ]
     },
     "execution_count": 134,
     "metadata": {},
     "output_type": "execute_result"
    },
    {
     "data": {
      "image/png": "[encoded data removed]",
      "text/plain": [
       "<Figure size 432x288 with 1 Axes>"
      ]
     },
     "metadata": {
      "needs_background": "light"
     },
     "output_type": "display_data"
    }
   ],
   "source": [
    "plt.hist(res2[1])"
   ]
  },
  {
   "cell_type": "code",
   "execution_count": 135,
   "metadata": {},
   "outputs": [
    {
     "data": {
      "text/plain": [
       "<matplotlib.collections.PathCollection at 0x7f8cd3eef1f0>"
      ]
     },
     "execution_count": 135,
     "metadata": {},
     "output_type": "execute_result"
    },
    {
     "data": {
      "image/png": "[encoded data removed]",
      "text/plain": [
       "<Figure size 432x288 with 1 Axes>"
      ]
     },
     "metadata": {
      "needs_background": "light"
     },
     "output_type": "display_data"
    }
   ],
   "source": [
    "plt.scatter(range(10), res2[1][:10])"
   ]
  },
  {
   "cell_type": "code",
   "execution_count": 132,
   "metadata": {},
   "outputs": [
    {
     "data": {
      "text/html": [
       "<div>\n",
       "<style scoped>\n",
       "    .dataframe tbody tr th:only-of-type {\n",
       "        vertical-align: middle;\n",
       "    }\n",
       "\n",
       "    .dataframe tbody tr th {\n",
       "        vertical-align: top;\n",
       "    }\n",
       "\n",
       "    .dataframe thead th {\n",
       "        text-align: right;\n",
       "    }\n",
       "</style>\n",
       "<table border=\"1\" class=\"dataframe\">\n",
       "  <thead>\n",
       "    <tr style=\"text-align: right;\">\n",
       "      <th></th>\n",
       "    </tr>\n",
       "    <tr>\n",
       "      <th>timestamp</th>\n",
       "    </tr>\n",
       "  </thead>\n",
       "  <tbody>\n",
       "    <tr>\n",
       "      <th>2021-03-03 20:43:07.259687690+02:00</th>\n",
       "    </tr>\n",
       "    <tr>\n",
       "      <th>2021-03-03 20:43:07.276784442+02:00</th>\n",
       "    </tr>\n",
       "    <tr>\n",
       "      <th>2021-03-03 20:43:07.293865105+02:00</th>\n",
       "    </tr>\n",
       "    <tr>\n",
       "      <th>2021-03-03 20:43:07.310961617+02:00</th>\n",
       "    </tr>\n",
       "    <tr>\n",
       "      <th>2021-03-03 20:43:07.328042971+02:00</th>\n",
       "    </tr>\n",
       "  </tbody>\n",
       "</table>\n",
       "</div>"
      ],
      "text/plain": [
       "Empty DataFrame\n",
       "Columns: []\n",
       "Index: [2021-03-03 20:43:07.259687690+02:00, 2021-03-03 20:43:07.276784442+02:00, 2021-03-03 20:43:07.293865105+02:00, 2021-03-03 20:43:07.310961617+02:00, 2021-03-03 20:43:07.328042971+02:00]"
      ]
     },
     "execution_count": 132,
     "metadata": {},
     "output_type": "execute_result"
    }
   ],
   "source": [
    "res2[5].head()"
   ]
  },
  {
   "cell_type": "code",
   "execution_count": 133,
   "metadata": {},
   "outputs": [
    {
     "data": {
      "text/html": [
       "<div>\n",
       "<style scoped>\n",
       "    .dataframe tbody tr th:only-of-type {\n",
       "        vertical-align: middle;\n",
       "    }\n",
       "\n",
       "    .dataframe tbody tr th {\n",
       "        vertical-align: top;\n",
       "    }\n",
       "\n",
       "    .dataframe thead th {\n",
       "        text-align: right;\n",
       "    }\n",
       "</style>\n",
       "<table border=\"1\" class=\"dataframe\">\n",
       "  <thead>\n",
       "    <tr style=\"text-align: right;\">\n",
       "      <th></th>\n",
       "    </tr>\n",
       "    <tr>\n",
       "      <th>timestamp</th>\n",
       "    </tr>\n",
       "  </thead>\n",
       "  <tbody>\n",
       "    <tr>\n",
       "      <th>2021-03-04 08:36:48.811894886+02:00</th>\n",
       "    </tr>\n",
       "    <tr>\n",
       "      <th>2021-03-04 08:36:48.828992630+02:00</th>\n",
       "    </tr>\n",
       "    <tr>\n",
       "      <th>2021-03-04 08:36:48.846071734+02:00</th>\n",
       "    </tr>\n",
       "    <tr>\n",
       "      <th>2021-03-04 08:36:48.863153457+02:00</th>\n",
       "    </tr>\n",
       "    <tr>\n",
       "      <th>2021-03-04 08:36:48.880234284+02:00</th>\n",
       "    </tr>\n",
       "  </tbody>\n",
       "</table>\n",
       "</div>"
      ],
      "text/plain": [
       "Empty DataFrame\n",
       "Columns: []\n",
       "Index: [2021-03-04 08:36:48.811894886+02:00, 2021-03-04 08:36:48.828992630+02:00, 2021-03-04 08:36:48.846071734+02:00, 2021-03-04 08:36:48.863153457+02:00, 2021-03-04 08:36:48.880234284+02:00]"
      ]
     },
     "execution_count": 133,
     "metadata": {},
     "output_type": "execute_result"
    }
   ],
   "source": [
    "res2[5].tail()"
   ]
  },
  {
   "cell_type": "markdown",
   "metadata": {},
   "source": [
    "# Led Test"
   ]
  },
  {
   "cell_type": "code",
   "execution_count": 49,
   "metadata": {},
   "outputs": [],
   "source": [
    "csv_right = \"videos/led_test_right_camera_20210322-133051.csv\"\n",
    "csv_left = \"videos/led_test_left_camera_20210322-133051.csv\""
   ]
  },
  {
   "cell_type": "code",
   "execution_count": 29,
   "metadata": {},
   "outputs": [],
   "source": [
    "csv_right = \"videos/led_test_right_camera_20210322-133245.csv\"\n",
    "csv_left = \"videos/led_test_left_camera_20210322-133245.csv\""
   ]
  },
  {
   "cell_type": "code",
   "execution_count": 25,
   "metadata": {},
   "outputs": [],
   "source": [
    "# trigger on before rec\n",
    "csv_right = \"videos/led_test_right_camera_20210322-140542.csv\"\n",
    "csv_left = \"videos/led_test_left_camera_20210322-140542.csv\""
   ]
  },
  {
   "cell_type": "code",
   "execution_count": 22,
   "metadata": {},
   "outputs": [],
   "source": [
    "# fix trigger bug, weird delay\n",
    "csv_right = \"videos/led_test_fix_right_camera_20210322-141210.csv\"\n",
    "csv_left = \"videos/led_test_fix_left_camera_20210322-141210.csv\""
   ]
  },
  {
   "cell_type": "code",
   "execution_count": 7,
   "metadata": {},
   "outputs": [],
   "source": [
    "# trigger with led\n",
    "csv_right = \"videos/right_camera_20210322-213300.csv\"\n",
    "csv_left = \"videos/left_camera_20210322-213300.csv\""
   ]
  },
  {
   "cell_type": "code",
   "execution_count": 26,
   "metadata": {},
   "outputs": [],
   "source": [
    "res_right = analyze_timestamp_csv(csv_right)\n",
    "res_left = analyze_timestamp_csv(csv_left)"
   ]
  },
  {
   "cell_type": "code",
   "execution_count": 27,
   "metadata": {},
   "outputs": [
    {
     "data": {
      "text/plain": [
       "254"
      ]
     },
     "execution_count": 27,
     "metadata": {},
     "output_type": "execute_result"
    }
   ],
   "source": [
    "res_right[\"n\"]"
   ]
  },
  {
   "cell_type": "code",
   "execution_count": 28,
   "metadata": {},
   "outputs": [
    {
     "data": {
      "text/plain": [
       "252"
      ]
     },
     "execution_count": 28,
     "metadata": {},
     "output_type": "execute_result"
    }
   ],
   "source": [
    "res_left[\"n\"]"
   ]
  },
  {
   "cell_type": "code",
   "execution_count": 29,
   "metadata": {},
   "outputs": [
    {
     "name": "stderr",
     "output_type": "stream",
     "text": [
      "<ipython-input-29-ddb7dba30158>:1: DeprecationWarning: parsing timezone aware datetimes is deprecated; this will raise an error in the future\n",
      "  np_left = np.array(res_left[\"df\"].index.to_pydatetime(), dtype=np.datetime64)\n",
      "<ipython-input-29-ddb7dba30158>:2: DeprecationWarning: parsing timezone aware datetimes is deprecated; this will raise an error in the future\n",
      "  np_right = np.array(res_right[\"df\"].index.to_pydatetime(), dtype=np.datetime64)\n"
     ]
    }
   ],
   "source": [
    "np_left = np.array(res_left[\"df\"].index.to_pydatetime(), dtype=np.datetime64)\n",
    "np_right = np.array(res_right[\"df\"].index.to_pydatetime(), dtype=np.datetime64)"
   ]
  },
  {
   "cell_type": "code",
   "execution_count": 30,
   "metadata": {},
   "outputs": [],
   "source": [
    "diff_left = res_left[\"diff\"].values\n",
    "diff_right = res_right[\"diff\"].values"
   ]
  },
  {
   "cell_type": "code",
   "execution_count": 31,
   "metadata": {},
   "outputs": [
    {
     "data": {
      "text/plain": [
       "[<matplotlib.lines.Line2D at 0x7fa64ba43a90>]"
      ]
     },
     "execution_count": 31,
     "metadata": {},
     "output_type": "execute_result"
    },
    {
     "data": {
      "image/png": "[encoded data removed]",
      "text/plain": [
       "<Figure size 432x288 with 1 Axes>"
      ]
     },
     "metadata": {
      "needs_background": "light"
     },
     "output_type": "display_data"
    }
   ],
   "source": [
    "plt.plot(diff_left)\n",
    "plt.plot(diff_right)"
   ]
  },
  {
   "cell_type": "code",
   "execution_count": 32,
   "metadata": {},
   "outputs": [
    {
     "data": {
      "text/plain": [
       "<matplotlib.collections.PathCollection at 0x7fa64b9a6280>"
      ]
     },
     "execution_count": 32,
     "metadata": {},
     "output_type": "execute_result"
    },
    {
     "data": {
      "image/png": "[encoded data removed]",
      "text/plain": [
       "<Figure size 1800x1200 with 1 Axes>"
      ]
     },
     "metadata": {
      "needs_background": "light"
     },
     "output_type": "display_data"
    }
   ],
   "source": [
    "start = 0\n",
    "end = 200\n",
    "plt.figure(dpi=300)\n",
    "plt.ylim(0, 1)\n",
    "plt.scatter(x=np_left[start:end], y=np.repeat(np.array(0.6), end-start), s=1)\n",
    "plt.scatter(x=np_right[start:end], y=np.repeat(np.array(0.4), end-start), s=1)"
   ]
  },
  {
   "cell_type": "code",
   "execution_count": 45,
   "metadata": {},
   "outputs": [
    {
     "ename": "ValueError",
     "evalue": "all arrays must be same length",
     "output_type": "error",
     "traceback": [
      "\u001b[0;31m---------------------------------------------------------------------------\u001b[0m",
      "\u001b[0;31mValueError\u001b[0m                                Traceback (most recent call last)",
      "\u001b[0;32m<ipython-input-45-c320aa885e2b>\u001b[0m in \u001b[0;36m<module>\u001b[0;34m\u001b[0m\n\u001b[0;32m----> 1\u001b[0;31m \u001b[0mdf\u001b[0m \u001b[0;34m=\u001b[0m \u001b[0mpd\u001b[0m\u001b[0;34m.\u001b[0m\u001b[0mDataFrame\u001b[0m\u001b[0;34m(\u001b[0m\u001b[0mcolumns\u001b[0m\u001b[0;34m=\u001b[0m\u001b[0;34m[\u001b[0m\u001b[0mres_left\u001b[0m\u001b[0;34m[\u001b[0m\u001b[0;34m\"df\"\u001b[0m\u001b[0;34m]\u001b[0m\u001b[0;34m.\u001b[0m\u001b[0mindex\u001b[0m\u001b[0;34m,\u001b[0m \u001b[0mres_right\u001b[0m\u001b[0;34m[\u001b[0m\u001b[0;34m\"df\"\u001b[0m\u001b[0;34m]\u001b[0m\u001b[0;34m.\u001b[0m\u001b[0mindex\u001b[0m\u001b[0;34m]\u001b[0m\u001b[0;34m)\u001b[0m\u001b[0;34m\u001b[0m\u001b[0;34m\u001b[0m\u001b[0m\n\u001b[0m",
      "\u001b[0;32m~/anaconda3/envs/tal/lib/python3.8/site-packages/pandas/core/frame.py\u001b[0m in \u001b[0;36m__init__\u001b[0;34m(self, data, index, columns, dtype, copy)\u001b[0m\n\u001b[1;32m    527\u001b[0m \u001b[0;34m\u001b[0m\u001b[0m\n\u001b[1;32m    528\u001b[0m         \u001b[0;32melif\u001b[0m \u001b[0misinstance\u001b[0m\u001b[0;34m(\u001b[0m\u001b[0mdata\u001b[0m\u001b[0;34m,\u001b[0m \u001b[0mdict\u001b[0m\u001b[0;34m)\u001b[0m\u001b[0;34m:\u001b[0m\u001b[0;34m\u001b[0m\u001b[0;34m\u001b[0m\u001b[0m\n\u001b[0;32m--> 529\u001b[0;31m             \u001b[0mmgr\u001b[0m \u001b[0;34m=\u001b[0m \u001b[0minit_dict\u001b[0m\u001b[0;34m(\u001b[0m\u001b[0mdata\u001b[0m\u001b[0;34m,\u001b[0m \u001b[0mindex\u001b[0m\u001b[0;34m,\u001b[0m \u001b[0mcolumns\u001b[0m\u001b[0;34m,\u001b[0m \u001b[0mdtype\u001b[0m\u001b[0;34m=\u001b[0m\u001b[0mdtype\u001b[0m\u001b[0;34m)\u001b[0m\u001b[0;34m\u001b[0m\u001b[0;34m\u001b[0m\u001b[0m\n\u001b[0m\u001b[1;32m    530\u001b[0m         \u001b[0;32melif\u001b[0m \u001b[0misinstance\u001b[0m\u001b[0;34m(\u001b[0m\u001b[0mdata\u001b[0m\u001b[0;34m,\u001b[0m \u001b[0mma\u001b[0m\u001b[0;34m.\u001b[0m\u001b[0mMaskedArray\u001b[0m\u001b[0;34m)\u001b[0m\u001b[0;34m:\u001b[0m\u001b[0;34m\u001b[0m\u001b[0;34m\u001b[0m\u001b[0m\n\u001b[1;32m    531\u001b[0m             \u001b[0;32mimport\u001b[0m \u001b[0mnumpy\u001b[0m\u001b[0;34m.\u001b[0m\u001b[0mma\u001b[0m\u001b[0;34m.\u001b[0m\u001b[0mmrecords\u001b[0m \u001b[0;32mas\u001b[0m \u001b[0mmrecords\u001b[0m\u001b[0;34m\u001b[0m\u001b[0;34m\u001b[0m\u001b[0m\n",
      "\u001b[0;32m~/anaconda3/envs/tal/lib/python3.8/site-packages/pandas/core/internals/construction.py\u001b[0m in \u001b[0;36minit_dict\u001b[0;34m(data, index, columns, dtype)\u001b[0m\n\u001b[1;32m    249\u001b[0m         \u001b[0;32mfrom\u001b[0m \u001b[0mpandas\u001b[0m\u001b[0;34m.\u001b[0m\u001b[0mcore\u001b[0m\u001b[0;34m.\u001b[0m\u001b[0mseries\u001b[0m \u001b[0;32mimport\u001b[0m \u001b[0mSeries\u001b[0m\u001b[0;34m\u001b[0m\u001b[0;34m\u001b[0m\u001b[0m\n\u001b[1;32m    250\u001b[0m \u001b[0;34m\u001b[0m\u001b[0m\n\u001b[0;32m--> 251\u001b[0;31m         \u001b[0marrays\u001b[0m \u001b[0;34m=\u001b[0m \u001b[0mSeries\u001b[0m\u001b[0;34m(\u001b[0m\u001b[0mdata\u001b[0m\u001b[0;34m,\u001b[0m \u001b[0mindex\u001b[0m\u001b[0;34m=\u001b[0m\u001b[0mcolumns\u001b[0m\u001b[0;34m,\u001b[0m \u001b[0mdtype\u001b[0m\u001b[0;34m=\u001b[0m\u001b[0mobject\u001b[0m\u001b[0;34m)\u001b[0m\u001b[0;34m\u001b[0m\u001b[0;34m\u001b[0m\u001b[0m\n\u001b[0m\u001b[1;32m    252\u001b[0m         \u001b[0mdata_names\u001b[0m \u001b[0;34m=\u001b[0m \u001b[0marrays\u001b[0m\u001b[0;34m.\u001b[0m\u001b[0mindex\u001b[0m\u001b[0;34m\u001b[0m\u001b[0;34m\u001b[0m\u001b[0m\n\u001b[1;32m    253\u001b[0m \u001b[0;34m\u001b[0m\u001b[0m\n",
      "\u001b[0;32m~/anaconda3/envs/tal/lib/python3.8/site-packages/pandas/core/series.py\u001b[0m in \u001b[0;36m__init__\u001b[0;34m(self, data, index, dtype, name, copy, fastpath)\u001b[0m\n\u001b[1;32m    250\u001b[0m \u001b[0;34m\u001b[0m\u001b[0m\n\u001b[1;32m    251\u001b[0m             \u001b[0;32mif\u001b[0m \u001b[0mindex\u001b[0m \u001b[0;32mis\u001b[0m \u001b[0;32mnot\u001b[0m \u001b[0;32mNone\u001b[0m\u001b[0;34m:\u001b[0m\u001b[0;34m\u001b[0m\u001b[0;34m\u001b[0m\u001b[0m\n\u001b[0;32m--> 252\u001b[0;31m                 \u001b[0mindex\u001b[0m \u001b[0;34m=\u001b[0m \u001b[0mensure_index\u001b[0m\u001b[0;34m(\u001b[0m\u001b[0mindex\u001b[0m\u001b[0;34m)\u001b[0m\u001b[0;34m\u001b[0m\u001b[0;34m\u001b[0m\u001b[0m\n\u001b[0m\u001b[1;32m    253\u001b[0m \u001b[0;34m\u001b[0m\u001b[0m\n\u001b[1;32m    254\u001b[0m             \u001b[0;32mif\u001b[0m \u001b[0mdata\u001b[0m \u001b[0;32mis\u001b[0m \u001b[0;32mNone\u001b[0m\u001b[0;34m:\u001b[0m\u001b[0;34m\u001b[0m\u001b[0;34m\u001b[0m\u001b[0m\n",
      "\u001b[0;32m~/anaconda3/envs/tal/lib/python3.8/site-packages/pandas/core/indexes/base.py\u001b[0m in \u001b[0;36mensure_index\u001b[0;34m(index_like, copy)\u001b[0m\n\u001b[1;32m   5899\u001b[0m             \u001b[0;32mfrom\u001b[0m \u001b[0mpandas\u001b[0m\u001b[0;34m.\u001b[0m\u001b[0mcore\u001b[0m\u001b[0;34m.\u001b[0m\u001b[0mindexes\u001b[0m\u001b[0;34m.\u001b[0m\u001b[0mmulti\u001b[0m \u001b[0;32mimport\u001b[0m \u001b[0mMultiIndex\u001b[0m\u001b[0;34m\u001b[0m\u001b[0;34m\u001b[0m\u001b[0m\n\u001b[1;32m   5900\u001b[0m \u001b[0;34m\u001b[0m\u001b[0m\n\u001b[0;32m-> 5901\u001b[0;31m             \u001b[0;32mreturn\u001b[0m \u001b[0mMultiIndex\u001b[0m\u001b[0;34m.\u001b[0m\u001b[0mfrom_arrays\u001b[0m\u001b[0;34m(\u001b[0m\u001b[0mconverted\u001b[0m\u001b[0;34m)\u001b[0m\u001b[0;34m\u001b[0m\u001b[0;34m\u001b[0m\u001b[0m\n\u001b[0m\u001b[1;32m   5902\u001b[0m         \u001b[0;32melse\u001b[0m\u001b[0;34m:\u001b[0m\u001b[0;34m\u001b[0m\u001b[0;34m\u001b[0m\u001b[0m\n\u001b[1;32m   5903\u001b[0m             \u001b[0;32mif\u001b[0m \u001b[0misinstance\u001b[0m\u001b[0;34m(\u001b[0m\u001b[0mconverted\u001b[0m\u001b[0;34m,\u001b[0m \u001b[0mnp\u001b[0m\u001b[0;34m.\u001b[0m\u001b[0mndarray\u001b[0m\u001b[0;34m)\u001b[0m \u001b[0;32mand\u001b[0m \u001b[0mconverted\u001b[0m\u001b[0;34m.\u001b[0m\u001b[0mdtype\u001b[0m \u001b[0;34m==\u001b[0m \u001b[0mnp\u001b[0m\u001b[0;34m.\u001b[0m\u001b[0mint64\u001b[0m\u001b[0;34m:\u001b[0m\u001b[0;34m\u001b[0m\u001b[0;34m\u001b[0m\u001b[0m\n",
      "\u001b[0;32m~/anaconda3/envs/tal/lib/python3.8/site-packages/pandas/core/indexes/multi.py\u001b[0m in \u001b[0;36mfrom_arrays\u001b[0;34m(cls, arrays, sortorder, names)\u001b[0m\n\u001b[1;32m    458\u001b[0m         \u001b[0;32mfor\u001b[0m \u001b[0mi\u001b[0m \u001b[0;32min\u001b[0m \u001b[0mrange\u001b[0m\u001b[0;34m(\u001b[0m\u001b[0;36m1\u001b[0m\u001b[0;34m,\u001b[0m \u001b[0mlen\u001b[0m\u001b[0;34m(\u001b[0m\u001b[0marrays\u001b[0m\u001b[0;34m)\u001b[0m\u001b[0;34m)\u001b[0m\u001b[0;34m:\u001b[0m\u001b[0;34m\u001b[0m\u001b[0;34m\u001b[0m\u001b[0m\n\u001b[1;32m    459\u001b[0m             \u001b[0;32mif\u001b[0m \u001b[0mlen\u001b[0m\u001b[0;34m(\u001b[0m\u001b[0marrays\u001b[0m\u001b[0;34m[\u001b[0m\u001b[0mi\u001b[0m\u001b[0;34m]\u001b[0m\u001b[0;34m)\u001b[0m \u001b[0;34m!=\u001b[0m \u001b[0mlen\u001b[0m\u001b[0;34m(\u001b[0m\u001b[0marrays\u001b[0m\u001b[0;34m[\u001b[0m\u001b[0mi\u001b[0m \u001b[0;34m-\u001b[0m \u001b[0;36m1\u001b[0m\u001b[0;34m]\u001b[0m\u001b[0;34m)\u001b[0m\u001b[0;34m:\u001b[0m\u001b[0;34m\u001b[0m\u001b[0;34m\u001b[0m\u001b[0m\n\u001b[0;32m--> 460\u001b[0;31m                 \u001b[0;32mraise\u001b[0m \u001b[0mValueError\u001b[0m\u001b[0;34m(\u001b[0m\u001b[0;34m\"all arrays must be same length\"\u001b[0m\u001b[0;34m)\u001b[0m\u001b[0;34m\u001b[0m\u001b[0;34m\u001b[0m\u001b[0m\n\u001b[0m\u001b[1;32m    461\u001b[0m \u001b[0;34m\u001b[0m\u001b[0m\n\u001b[1;32m    462\u001b[0m         \u001b[0mcodes\u001b[0m\u001b[0;34m,\u001b[0m \u001b[0mlevels\u001b[0m \u001b[0;34m=\u001b[0m \u001b[0mfactorize_from_iterables\u001b[0m\u001b[0;34m(\u001b[0m\u001b[0marrays\u001b[0m\u001b[0;34m)\u001b[0m\u001b[0;34m\u001b[0m\u001b[0;34m\u001b[0m\u001b[0m\n",
      "\u001b[0;31mValueError\u001b[0m: all arrays must be same length"
     ]
    }
   ],
   "source": [
    "df = pd.DataFrame(columns=[res_left[\"df\"].index, res_right[\"df\"].index])"
   ]
  },
  {
   "cell_type": "code",
   "execution_count": 44,
   "metadata": {},
   "outputs": [
    {
     "data": {
      "text/html": [
       "<div>\n",
       "<style scoped>\n",
       "    .dataframe tbody tr th:only-of-type {\n",
       "        vertical-align: middle;\n",
       "    }\n",
       "\n",
       "    .dataframe tbody tr th {\n",
       "        vertical-align: top;\n",
       "    }\n",
       "\n",
       "    .dataframe thead th {\n",
       "        text-align: right;\n",
       "    }\n",
       "</style>\n",
       "<table border=\"1\" class=\"dataframe\">\n",
       "  <thead>\n",
       "    <tr style=\"text-align: right;\">\n",
       "      <th></th>\n",
       "      <th>0</th>\n",
       "      <th>1</th>\n",
       "      <th>2</th>\n",
       "      <th>3</th>\n",
       "      <th>4</th>\n",
       "      <th>5</th>\n",
       "      <th>6</th>\n",
       "      <th>7</th>\n",
       "      <th>8</th>\n",
       "      <th>9</th>\n",
       "      <th>...</th>\n",
       "      <th>244</th>\n",
       "      <th>245</th>\n",
       "      <th>246</th>\n",
       "      <th>247</th>\n",
       "      <th>248</th>\n",
       "      <th>249</th>\n",
       "      <th>250</th>\n",
       "      <th>251</th>\n",
       "      <th>252</th>\n",
       "      <th>253</th>\n",
       "    </tr>\n",
       "  </thead>\n",
       "  <tbody>\n",
       "    <tr>\n",
       "      <th>0</th>\n",
       "      <td>2021-03-22 14:05:42.878764415+02:00</td>\n",
       "      <td>2021-03-22 14:05:42.896497630+02:00</td>\n",
       "      <td>2021-03-22 14:05:42.914186267+02:00</td>\n",
       "      <td>2021-03-22 14:05:42.931875532+02:00</td>\n",
       "      <td>2021-03-22 14:05:42.949548463+02:00</td>\n",
       "      <td>2021-03-22 14:05:42.967237801+02:00</td>\n",
       "      <td>2021-03-22 14:05:42.984926984+02:00</td>\n",
       "      <td>2021-03-22 14:05:43.002615186+02:00</td>\n",
       "      <td>2021-03-22 14:05:43.020288288+02:00</td>\n",
       "      <td>2021-03-22 14:05:43.037977323+02:00</td>\n",
       "      <td>...</td>\n",
       "      <td>2021-03-22 14:05:47.264873763+02:00</td>\n",
       "      <td>2021-03-22 14:05:47.282667705+02:00</td>\n",
       "      <td>2021-03-22 14:05:47.300460955+02:00</td>\n",
       "      <td>2021-03-22 14:05:47.318221755+02:00</td>\n",
       "      <td>2021-03-22 14:05:47.336015590+02:00</td>\n",
       "      <td>2021-03-22 14:05:47.353807369+02:00</td>\n",
       "      <td>2021-03-22 14:05:47.371583073+02:00</td>\n",
       "      <td>2021-03-22 14:05:47.389360751+02:00</td>\n",
       "      <td>NaT</td>\n",
       "      <td>NaT</td>\n",
       "    </tr>\n",
       "    <tr>\n",
       "      <th>1</th>\n",
       "      <td>2021-03-22 14:05:42.888391571+02:00</td>\n",
       "      <td>2021-03-22 14:05:42.906124817+02:00</td>\n",
       "      <td>2021-03-22 14:05:42.923814817+02:00</td>\n",
       "      <td>2021-03-22 14:05:42.941487179+02:00</td>\n",
       "      <td>2021-03-22 14:05:42.959176869+02:00</td>\n",
       "      <td>2021-03-22 14:05:42.976865206+02:00</td>\n",
       "      <td>2021-03-22 14:05:42.994553790+02:00</td>\n",
       "      <td>2021-03-22 14:05:43.012226767+02:00</td>\n",
       "      <td>2021-03-22 14:05:43.029915617+02:00</td>\n",
       "      <td>2021-03-22 14:05:43.047589317+02:00</td>\n",
       "      <td>...</td>\n",
       "      <td>2021-03-22 14:05:47.238960785+02:00</td>\n",
       "      <td>2021-03-22 14:05:47.256738985+02:00</td>\n",
       "      <td>2021-03-22 14:05:47.274516133+02:00</td>\n",
       "      <td>2021-03-22 14:05:47.292310523+02:00</td>\n",
       "      <td>2021-03-22 14:05:47.310085985+02:00</td>\n",
       "      <td>2021-03-22 14:05:47.327863002+02:00</td>\n",
       "      <td>2021-03-22 14:05:47.345657056+02:00</td>\n",
       "      <td>2021-03-22 14:05:47.363449710+02:00</td>\n",
       "      <td>2021-03-22 14:05:47.381225310+02:00</td>\n",
       "      <td>2021-03-22 14:05:47.399002623+02:00</td>\n",
       "    </tr>\n",
       "  </tbody>\n",
       "</table>\n",
       "<p>2 rows × 254 columns</p>\n",
       "</div>"
      ],
      "text/plain": [
       "                                  0                                   1    \\\n",
       "0 2021-03-22 14:05:42.878764415+02:00 2021-03-22 14:05:42.896497630+02:00   \n",
       "1 2021-03-22 14:05:42.888391571+02:00 2021-03-22 14:05:42.906124817+02:00   \n",
       "\n",
       "                                  2                                   3    \\\n",
       "0 2021-03-22 14:05:42.914186267+02:00 2021-03-22 14:05:42.931875532+02:00   \n",
       "1 2021-03-22 14:05:42.923814817+02:00 2021-03-22 14:05:42.941487179+02:00   \n",
       "\n",
       "                                  4                                   5    \\\n",
       "0 2021-03-22 14:05:42.949548463+02:00 2021-03-22 14:05:42.967237801+02:00   \n",
       "1 2021-03-22 14:05:42.959176869+02:00 2021-03-22 14:05:42.976865206+02:00   \n",
       "\n",
       "                                  6                                   7    \\\n",
       "0 2021-03-22 14:05:42.984926984+02:00 2021-03-22 14:05:43.002615186+02:00   \n",
       "1 2021-03-22 14:05:42.994553790+02:00 2021-03-22 14:05:43.012226767+02:00   \n",
       "\n",
       "                                  8                                   9    \\\n",
       "0 2021-03-22 14:05:43.020288288+02:00 2021-03-22 14:05:43.037977323+02:00   \n",
       "1 2021-03-22 14:05:43.029915617+02:00 2021-03-22 14:05:43.047589317+02:00   \n",
       "\n",
       "   ...                                 244  \\\n",
       "0  ... 2021-03-22 14:05:47.264873763+02:00   \n",
       "1  ... 2021-03-22 14:05:47.238960785+02:00   \n",
       "\n",
       "                                  245                                 246  \\\n",
       "0 2021-03-22 14:05:47.282667705+02:00 2021-03-22 14:05:47.300460955+02:00   \n",
       "1 2021-03-22 14:05:47.256738985+02:00 2021-03-22 14:05:47.274516133+02:00   \n",
       "\n",
       "                                  247                                 248  \\\n",
       "0 2021-03-22 14:05:47.318221755+02:00 2021-03-22 14:05:47.336015590+02:00   \n",
       "1 2021-03-22 14:05:47.292310523+02:00 2021-03-22 14:05:47.310085985+02:00   \n",
       "\n",
       "                                  249                                 250  \\\n",
       "0 2021-03-22 14:05:47.353807369+02:00 2021-03-22 14:05:47.371583073+02:00   \n",
       "1 2021-03-22 14:05:47.327863002+02:00 2021-03-22 14:05:47.345657056+02:00   \n",
       "\n",
       "                                  251                                 252  \\\n",
       "0 2021-03-22 14:05:47.389360751+02:00                                 NaT   \n",
       "1 2021-03-22 14:05:47.363449710+02:00 2021-03-22 14:05:47.381225310+02:00   \n",
       "\n",
       "                                  253  \n",
       "0                                 NaT  \n",
       "1 2021-03-22 14:05:47.399002623+02:00  \n",
       "\n",
       "[2 rows x 254 columns]"
      ]
     },
     "execution_count": 44,
     "metadata": {},
     "output_type": "execute_result"
    }
   ],
   "source": [
    "df"
   ]
  },
  {
   "cell_type": "code",
   "execution_count": 42,
   "metadata": {},
   "outputs": [
    {
     "data": {
      "text/plain": [
       "timestamp\n",
       "2021-03-22 14:05:42.878764415+02:00   2021-03-22 14:05:42.878764415+02:00\n",
       "2021-03-22 14:05:42.896497630+02:00   2021-03-22 14:05:42.896497630+02:00\n",
       "2021-03-22 14:05:42.914186267+02:00   2021-03-22 14:05:42.914186267+02:00\n",
       "2021-03-22 14:05:42.931875532+02:00   2021-03-22 14:05:42.931875532+02:00\n",
       "2021-03-22 14:05:42.949548463+02:00   2021-03-22 14:05:42.949548463+02:00\n",
       "Name: timestamp, dtype: datetime64[ns, Asia/Jerusalem]"
      ]
     },
     "execution_count": 42,
     "metadata": {},
     "output_type": "execute_result"
    }
   ],
   "source": [
    "df.head()"
   ]
  },
  {
   "cell_type": "code",
   "execution_count": 8,
   "metadata": {},
   "outputs": [],
   "source": [
    "ts_210413 = {\n",
    "    \"left\": \"/data/reptilearn/media/left_20210413-160219.csv\",\n",
    "    \"right\": \"/data/reptilearn/media/right_20210413-160219.csv\",\n",
    "    \"top\": \"/data/reptilearn/media/top_20210413-160219.csv\",\n",
    "    \"back\": \"/data/reptilearn/media/back_20210413-160219.csv\",\n",
    "}"
   ]
  },
  {
   "cell_type": "code",
   "execution_count": 68,
   "metadata": {},
   "outputs": [],
   "source": [
    "ts_210413 = {\n",
    "    \"left\": \"/data/reptilearn/media/left_20210413-160337.csv\",\n",
    "    \"right\": \"/data/reptilearn/media/right_20210413-160337.csv\",\n",
    "    \"top\": \"/data/reptilearn/media/top_20210413-160337.csv\",\n",
    "    \"back\": \"/data/reptilearn/media/back_20210413-160337.csv\",\n",
    "}"
   ]
  },
  {
   "cell_type": "code",
   "execution_count": 113,
   "metadata": {},
   "outputs": [],
   "source": [
    "ts_210413 = {\n",
    "    \"left\": \"/data/reptilearn/media/left_20210413-183000.csv\",\n",
    "    \"right\": \"/data/reptilearn/media/right_20210413-183000.csv\",\n",
    "    \"top\": \"/data/reptilearn/media/top_20210413-183000.csv\",\n",
    "    \"back\": \"/data/reptilearn/media/back_20210413-183000.csv\",\n",
    "}"
   ]
  },
  {
   "cell_type": "code",
   "execution_count": 114,
   "metadata": {},
   "outputs": [],
   "source": [
    "r_210413 = {k: analyze_timestamp_csv(v) for k, v in ts_210413.items()}"
   ]
  },
  {
   "cell_type": "code",
   "execution_count": 115,
   "metadata": {},
   "outputs": [
    {
     "data": {
      "text/plain": [
       "[525, 524, 515, 527]"
      ]
     },
     "execution_count": 115,
     "metadata": {},
     "output_type": "execute_result"
    }
   ],
   "source": [
    "[r[\"n\"] for r in r_210413.values()]"
   ]
  },
  {
   "cell_type": "code",
   "execution_count": 116,
   "metadata": {},
   "outputs": [
    {
     "data": {
      "text/plain": [
       "<matplotlib.legend.Legend at 0x7f5ee1e56f40>"
      ]
     },
     "execution_count": 116,
     "metadata": {},
     "output_type": "execute_result"
    },
    {
     "data": {
      "image/png": "[encoded data removed]",
      "text/plain": [
       "<Figure size 432x288 with 1 Axes>"
      ]
     },
     "metadata": {
      "needs_background": "light"
     },
     "output_type": "display_data"
    }
   ],
   "source": [
    "for k, r in r_210413.items():\n",
    "    plt.plot(r[\"diff\"], label=k)\n",
    "plt.legend()"
   ]
  },
  {
   "cell_type": "code",
   "execution_count": 117,
   "metadata": {},
   "outputs": [],
   "source": [
    "tss = np.empty((max([r[\"n\"] for r in r_210413.values()]), len(r_210413)), dtype='datetime64[ns]')\n",
    "tss[:] = np.nan\n",
    "for i, r in enumerate(r_210413.values()):\n",
    "    tss[:r[\"n\"], i] = r[\"df\"].index.to_series().values\n",
    "    "
   ]
  },
  {
   "cell_type": "code",
   "execution_count": 118,
   "metadata": {},
   "outputs": [],
   "source": [
    "pd.set_option('display.max_rows', 200)"
   ]
  },
  {
   "cell_type": "code",
   "execution_count": 119,
   "metadata": {},
   "outputs": [],
   "source": [
    "all_tdf = pd.DataFrame(data=tss, columns=r_210413.keys())"
   ]
  },
  {
   "cell_type": "code",
   "execution_count": 120,
   "metadata": {},
   "outputs": [
    {
     "data": {
      "text/html": [
       "<div>\n",
       "<style scoped>\n",
       "    .dataframe tbody tr th:only-of-type {\n",
       "        vertical-align: middle;\n",
       "    }\n",
       "\n",
       "    .dataframe tbody tr th {\n",
       "        vertical-align: top;\n",
       "    }\n",
       "\n",
       "    .dataframe thead th {\n",
       "        text-align: right;\n",
       "    }\n",
       "</style>\n",
       "<table border=\"1\" class=\"dataframe\">\n",
       "  <thead>\n",
       "    <tr style=\"text-align: right;\">\n",
       "      <th></th>\n",
       "      <th>left</th>\n",
       "      <th>right</th>\n",
       "      <th>top</th>\n",
       "      <th>back</th>\n",
       "    </tr>\n",
       "  </thead>\n",
       "  <tbody>\n",
       "    <tr>\n",
       "      <th>0</th>\n",
       "      <td>2021-04-13 15:30:01.961729078</td>\n",
       "      <td>2021-04-13 15:30:01.962945284</td>\n",
       "      <td>2021-04-13 15:30:01.959226323</td>\n",
       "      <td>2021-04-13 15:30:01.961493718</td>\n",
       "    </tr>\n",
       "    <tr>\n",
       "      <th>1</th>\n",
       "      <td>2021-04-13 15:30:01.979462214</td>\n",
       "      <td>2021-04-13 15:30:01.980693894</td>\n",
       "      <td>2021-04-13 15:30:01.976965379</td>\n",
       "      <td>2021-04-13 15:30:01.979241618</td>\n",
       "    </tr>\n",
       "    <tr>\n",
       "      <th>2</th>\n",
       "      <td>2021-04-13 15:30:01.997135937</td>\n",
       "      <td>2021-04-13 15:30:01.998367123</td>\n",
       "      <td>2021-04-13 15:30:01.994641507</td>\n",
       "      <td>2021-04-13 15:30:01.996915554</td>\n",
       "    </tr>\n",
       "    <tr>\n",
       "      <th>3</th>\n",
       "      <td>2021-04-13 15:30:02.014825724</td>\n",
       "      <td>2021-04-13 15:30:02.016041013</td>\n",
       "      <td>2021-04-13 15:30:02.012317347</td>\n",
       "      <td>2021-04-13 15:30:02.014589166</td>\n",
       "    </tr>\n",
       "    <tr>\n",
       "      <th>4</th>\n",
       "      <td>2021-04-13 15:30:02.032498495</td>\n",
       "      <td>2021-04-13 15:30:02.033730019</td>\n",
       "      <td>2021-04-13 15:30:02.030001347</td>\n",
       "      <td>2021-04-13 15:30:02.032278170</td>\n",
       "    </tr>\n",
       "    <tr>\n",
       "      <th>...</th>\n",
       "      <td>...</td>\n",
       "      <td>...</td>\n",
       "      <td>...</td>\n",
       "      <td>...</td>\n",
       "    </tr>\n",
       "    <tr>\n",
       "      <th>522</th>\n",
       "      <td>2021-04-13 15:30:11.291346381</td>\n",
       "      <td>2021-04-13 15:30:11.310399413</td>\n",
       "      <td>NaT</td>\n",
       "      <td>2021-04-13 15:30:11.255556981</td>\n",
       "    </tr>\n",
       "    <tr>\n",
       "      <th>523</th>\n",
       "      <td>2021-04-13 15:30:11.309141383</td>\n",
       "      <td>2021-04-13 15:30:11.328176959</td>\n",
       "      <td>NaT</td>\n",
       "      <td>2021-04-13 15:30:11.273335058</td>\n",
       "    </tr>\n",
       "    <tr>\n",
       "      <th>524</th>\n",
       "      <td>2021-04-13 15:30:11.326916883</td>\n",
       "      <td>NaT</td>\n",
       "      <td>NaT</td>\n",
       "      <td>2021-04-13 15:30:11.291110693</td>\n",
       "    </tr>\n",
       "    <tr>\n",
       "      <th>525</th>\n",
       "      <td>NaT</td>\n",
       "      <td>NaT</td>\n",
       "      <td>NaT</td>\n",
       "      <td>2021-04-13 15:30:11.308904324</td>\n",
       "    </tr>\n",
       "    <tr>\n",
       "      <th>526</th>\n",
       "      <td>NaT</td>\n",
       "      <td>NaT</td>\n",
       "      <td>NaT</td>\n",
       "      <td>2021-04-13 15:30:11.326681441</td>\n",
       "    </tr>\n",
       "  </tbody>\n",
       "</table>\n",
       "<p>527 rows × 4 columns</p>\n",
       "</div>"
      ],
      "text/plain": [
       "                             left                         right  \\\n",
       "0   2021-04-13 15:30:01.961729078 2021-04-13 15:30:01.962945284   \n",
       "1   2021-04-13 15:30:01.979462214 2021-04-13 15:30:01.980693894   \n",
       "2   2021-04-13 15:30:01.997135937 2021-04-13 15:30:01.998367123   \n",
       "3   2021-04-13 15:30:02.014825724 2021-04-13 15:30:02.016041013   \n",
       "4   2021-04-13 15:30:02.032498495 2021-04-13 15:30:02.033730019   \n",
       "..                            ...                           ...   \n",
       "522 2021-04-13 15:30:11.291346381 2021-04-13 15:30:11.310399413   \n",
       "523 2021-04-13 15:30:11.309141383 2021-04-13 15:30:11.328176959   \n",
       "524 2021-04-13 15:30:11.326916883                           NaT   \n",
       "525                           NaT                           NaT   \n",
       "526                           NaT                           NaT   \n",
       "\n",
       "                              top                          back  \n",
       "0   2021-04-13 15:30:01.959226323 2021-04-13 15:30:01.961493718  \n",
       "1   2021-04-13 15:30:01.976965379 2021-04-13 15:30:01.979241618  \n",
       "2   2021-04-13 15:30:01.994641507 2021-04-13 15:30:01.996915554  \n",
       "3   2021-04-13 15:30:02.012317347 2021-04-13 15:30:02.014589166  \n",
       "4   2021-04-13 15:30:02.030001347 2021-04-13 15:30:02.032278170  \n",
       "..                            ...                           ...  \n",
       "522                           NaT 2021-04-13 15:30:11.255556981  \n",
       "523                           NaT 2021-04-13 15:30:11.273335058  \n",
       "524                           NaT 2021-04-13 15:30:11.291110693  \n",
       "525                           NaT 2021-04-13 15:30:11.308904324  \n",
       "526                           NaT 2021-04-13 15:30:11.326681441  \n",
       "\n",
       "[527 rows x 4 columns]"
      ]
     },
     "execution_count": 120,
     "metadata": {},
     "output_type": "execute_result"
    }
   ],
   "source": [
    "all_tdf"
   ]
  },
  {
   "cell_type": "code",
   "execution_count": 121,
   "metadata": {},
   "outputs": [],
   "source": [
    "diffs = np.empty((max([r[\"n\"] for r in r_210413.values()]), len(r_210413)), dtype='float64')\n",
    "diffs[:] = np.nan\n",
    "for i, r in enumerate(r_210413.values()):\n",
    "    diffs[:r[\"n\"], i] = r[\"diff\"].values\n"
   ]
  },
  {
   "cell_type": "code",
   "execution_count": 132,
   "metadata": {},
   "outputs": [
    {
     "data": {
      "text/plain": [
       "array([4.00501379, 3.00479141, 5.00724701, 2.00206638])"
      ]
     },
     "execution_count": 132,
     "metadata": {},
     "output_type": "execute_result"
    }
   ],
   "source": [
    "np.nanmax(diffs, axis=0) / 0.0177"
   ]
  },
  {
   "cell_type": "code",
   "execution_count": 131,
   "metadata": {},
   "outputs": [
    {
     "data": {
      "text/plain": [
       "dict_keys(['left', 'right', 'top', 'back'])"
      ]
     },
     "execution_count": 131,
     "metadata": {},
     "output_type": "execute_result"
    }
   ],
   "source": [
    "r_210413.keys()"
   ]
  },
  {
   "cell_type": "code",
   "execution_count": 139,
   "metadata": {},
   "outputs": [],
   "source": [
    "add_q = {\n",
    "    \"left\": \"/data/reptilearn/media/left_20210509-193226.csv\",\n",
    "    \"right\": \"/data/reptilearn/media/right_20210509-193226.csv\",\n",
    "    \"top\": \"/data/reptilearn/media/top_20210509-193226.csv\",\n",
    "    \"back\": \"/data/reptilearn/media/back_20210509-193226.csv\",\n",
    "}\n",
    "\n",
    "add_q2 = {\n",
    "    \"left\": \"/data/reptilearn/media/left_20210509-213120.csv\",\n",
    "    \"right\": \"/data/reptilearn/media/right_20210509-213120.csv\",\n",
    "    \"top\": \"/data/reptilearn/media/top_20210509-213120.csv\",\n",
    "    \"back\": \"/data/reptilearn/media/back_20210509-213120.csv\",\n",
    "}\n",
    "\n",
    "add_q3 = {\n",
    "    \"left\": \"/data/reptilearn/experiments/yolo_test_20210509-213402/left_20210509-213405.csv\",\n",
    "    \"right\": \"/data/reptilearn/experiments/yolo_test_20210509-213402/right_20210509-213405.csv\",\n",
    "    \"top\": \"/data/reptilearn/experiments/yolo_test_20210509-213402/top_20210509-213405.csv\",\n",
    "    \"back\": \"/data/reptilearn/experiments/yolo_test_20210509-213402/back_20210509-213405.csv\",\n",
    "}"
   ]
  },
  {
   "cell_type": "code",
   "execution_count": 140,
   "metadata": {},
   "outputs": [],
   "source": [
    "r_add_q = {k: analyze_timestamp_csv(v) for k, v in add_q3.items()}"
   ]
  },
  {
   "cell_type": "code",
   "execution_count": 141,
   "metadata": {},
   "outputs": [
    {
     "data": {
      "text/plain": [
       "<matplotlib.legend.Legend at 0x7f4793decd00>"
      ]
     },
     "execution_count": 141,
     "metadata": {},
     "output_type": "execute_result"
    },
    {
     "data": {
      "image/png": "[encoded data removed]",
      "text/plain": [
       "<Figure size 432x288 with 1 Axes>"
      ]
     },
     "metadata": {
      "needs_background": "light"
     },
     "output_type": "display_data"
    }
   ],
   "source": [
    "for k, r in r_add_q.items():\n",
    "    plt.plot(r[\"diff\"], label=k)\n",
    "    #plt.ylim(0.02, -0.02)\n",
    "plt.legend()"
   ]
  },
  {
   "cell_type": "code",
   "execution_count": 142,
   "metadata": {},
   "outputs": [
    {
     "name": "stdout",
     "output_type": "stream",
     "text": [
      "left 754 56.61097283234283 0.07196608872763388\n",
      "right 754 56.613802994232294 0.10903005469049414\n",
      "top 754 56.6060935704694 0.16666427628085873\n",
      "back 754 56.611495957376086 0.0728788844637672\n"
     ]
    }
   ],
   "source": [
    "for k, r in r_add_q.items():\n",
    "    print(k, r[\"n\"], r[\"mean_fps\"], r[\"sd_fps\"])"
   ]
  },
  {
   "cell_type": "code",
   "execution_count": 143,
   "metadata": {},
   "outputs": [
    {
     "data": {
      "text/plain": [
       "2.239981823230803e-05"
      ]
     },
     "execution_count": 143,
     "metadata": {},
     "output_type": "execute_result"
    }
   ],
   "source": [
    "r_add_q[\"left\"][\"diff\"].std()"
   ]
  },
  {
   "cell_type": "code",
   "execution_count": 144,
   "metadata": {},
   "outputs": [],
   "source": [
    "tss = pd.concat([v[\"df\"] for v in r_add_q.values()], axis=1)"
   ]
  },
  {
   "cell_type": "code",
   "execution_count": 145,
   "metadata": {},
   "outputs": [],
   "source": [
    "anchor = tss.iloc[:, 0]"
   ]
  },
  {
   "cell_type": "code",
   "execution_count": 146,
   "metadata": {},
   "outputs": [],
   "source": [
    "diffs = []\n",
    "for i in range(0, len(tss.columns)):\n",
    "    diffs.append((tss.iloc[:, i] - anchor) / np.timedelta64(1, 's'))"
   ]
  },
  {
   "cell_type": "code",
   "execution_count": 147,
   "metadata": {},
   "outputs": [
    {
     "data": {
      "text/plain": [
       "<matplotlib.legend.Legend at 0x7f479351f9a0>"
      ]
     },
     "execution_count": 147,
     "metadata": {},
     "output_type": "execute_result"
    },
    {
     "data": {
      "image/png": "[encoded data removed]",
      "text/plain": [
       "<Figure size 432x288 with 1 Axes>"
      ]
     },
     "metadata": {
      "needs_background": "light"
     },
     "output_type": "display_data"
    }
   ],
   "source": [
    "for i, diff in enumerate(diffs):\n",
    "    plt.plot(diff, label=i)\n",
    "plt.legend()"
   ]
  },
  {
   "cell_type": "code",
   "execution_count": 138,
   "metadata": {},
   "outputs": [
    {
     "data": {
      "text/html": [
       "<div>\n",
       "<style scoped>\n",
       "    .dataframe tbody tr th:only-of-type {\n",
       "        vertical-align: middle;\n",
       "    }\n",
       "\n",
       "    .dataframe tbody tr th {\n",
       "        vertical-align: top;\n",
       "    }\n",
       "\n",
       "    .dataframe thead th {\n",
       "        text-align: right;\n",
       "    }\n",
       "</style>\n",
       "<table border=\"1\" class=\"dataframe\">\n",
       "  <thead>\n",
       "    <tr style=\"text-align: right;\">\n",
       "      <th></th>\n",
       "      <th>timestamp</th>\n",
       "      <th>timestamp</th>\n",
       "      <th>timestamp</th>\n",
       "      <th>timestamp</th>\n",
       "    </tr>\n",
       "  </thead>\n",
       "  <tbody>\n",
       "    <tr>\n",
       "      <th>0</th>\n",
       "      <td>2021-05-09 18:31:21.310328064</td>\n",
       "      <td>2021-05-09 18:31:21.325337856</td>\n",
       "      <td>2021-05-09 18:31:21.275793920</td>\n",
       "      <td>2021-05-09 18:31:21.313182464</td>\n",
       "    </tr>\n",
       "    <tr>\n",
       "      <th>1</th>\n",
       "      <td>2021-05-09 18:31:21.332844032</td>\n",
       "      <td>2021-05-09 18:31:21.332821504</td>\n",
       "      <td>2021-05-09 18:31:21.333196288</td>\n",
       "      <td>2021-05-09 18:31:21.332837120</td>\n",
       "    </tr>\n",
       "    <tr>\n",
       "      <th>2</th>\n",
       "      <td>2021-05-09 18:31:21.350503936</td>\n",
       "      <td>2021-05-09 18:31:21.350480640</td>\n",
       "      <td>2021-05-09 18:31:21.350856960</td>\n",
       "      <td>2021-05-09 18:31:21.350497024</td>\n",
       "    </tr>\n",
       "    <tr>\n",
       "      <th>3</th>\n",
       "      <td>2021-05-09 18:31:21.368176896</td>\n",
       "      <td>2021-05-09 18:31:21.368152832</td>\n",
       "      <td>2021-05-09 18:31:21.368517120</td>\n",
       "      <td>2021-05-09 18:31:21.368155648</td>\n",
       "    </tr>\n",
       "    <tr>\n",
       "      <th>4</th>\n",
       "      <td>2021-05-09 18:31:21.385835776</td>\n",
       "      <td>2021-05-09 18:31:21.385812224</td>\n",
       "      <td>2021-05-09 18:31:21.386185472</td>\n",
       "      <td>2021-05-09 18:31:21.385814528</td>\n",
       "    </tr>\n",
       "    <tr>\n",
       "      <th>...</th>\n",
       "      <td>...</td>\n",
       "      <td>...</td>\n",
       "      <td>...</td>\n",
       "      <td>...</td>\n",
       "    </tr>\n",
       "    <tr>\n",
       "      <th>441</th>\n",
       "      <td>2021-05-09 18:31:29.141836032</td>\n",
       "      <td>2021-05-09 18:31:29.141839616</td>\n",
       "      <td>2021-05-09 18:31:29.142102272</td>\n",
       "      <td>2021-05-09 18:31:29.141826048</td>\n",
       "    </tr>\n",
       "    <tr>\n",
       "      <th>442</th>\n",
       "      <td>2021-05-09 18:31:29.159598336</td>\n",
       "      <td>2021-05-09 18:31:29.159601408</td>\n",
       "      <td>2021-05-09 18:31:29.159868160</td>\n",
       "      <td>2021-05-09 18:31:29.159588864</td>\n",
       "    </tr>\n",
       "    <tr>\n",
       "      <th>443</th>\n",
       "      <td>2021-05-09 18:31:29.177373184</td>\n",
       "      <td>2021-05-09 18:31:29.177379072</td>\n",
       "      <td>2021-05-09 18:31:29.177638400</td>\n",
       "      <td>2021-05-09 18:31:29.177351680</td>\n",
       "    </tr>\n",
       "    <tr>\n",
       "      <th>444</th>\n",
       "      <td>2021-05-09 18:31:29.195121664</td>\n",
       "      <td>2021-05-09 18:31:29.195127552</td>\n",
       "      <td>2021-05-09 18:31:29.195393024</td>\n",
       "      <td>2021-05-09 18:31:29.195114496</td>\n",
       "    </tr>\n",
       "    <tr>\n",
       "      <th>445</th>\n",
       "      <td>2021-05-09 18:31:29.212884992</td>\n",
       "      <td>2021-05-09 18:31:29.212889600</td>\n",
       "      <td>2021-05-09 18:31:29.213159168</td>\n",
       "      <td>2021-05-09 18:31:29.212877824</td>\n",
       "    </tr>\n",
       "  </tbody>\n",
       "</table>\n",
       "<p>446 rows × 4 columns</p>\n",
       "</div>"
      ],
      "text/plain": [
       "                        timestamp                     timestamp  \\\n",
       "0   2021-05-09 18:31:21.310328064 2021-05-09 18:31:21.325337856   \n",
       "1   2021-05-09 18:31:21.332844032 2021-05-09 18:31:21.332821504   \n",
       "2   2021-05-09 18:31:21.350503936 2021-05-09 18:31:21.350480640   \n",
       "3   2021-05-09 18:31:21.368176896 2021-05-09 18:31:21.368152832   \n",
       "4   2021-05-09 18:31:21.385835776 2021-05-09 18:31:21.385812224   \n",
       "..                            ...                           ...   \n",
       "441 2021-05-09 18:31:29.141836032 2021-05-09 18:31:29.141839616   \n",
       "442 2021-05-09 18:31:29.159598336 2021-05-09 18:31:29.159601408   \n",
       "443 2021-05-09 18:31:29.177373184 2021-05-09 18:31:29.177379072   \n",
       "444 2021-05-09 18:31:29.195121664 2021-05-09 18:31:29.195127552   \n",
       "445 2021-05-09 18:31:29.212884992 2021-05-09 18:31:29.212889600   \n",
       "\n",
       "                        timestamp                     timestamp  \n",
       "0   2021-05-09 18:31:21.275793920 2021-05-09 18:31:21.313182464  \n",
       "1   2021-05-09 18:31:21.333196288 2021-05-09 18:31:21.332837120  \n",
       "2   2021-05-09 18:31:21.350856960 2021-05-09 18:31:21.350497024  \n",
       "3   2021-05-09 18:31:21.368517120 2021-05-09 18:31:21.368155648  \n",
       "4   2021-05-09 18:31:21.386185472 2021-05-09 18:31:21.385814528  \n",
       "..                            ...                           ...  \n",
       "441 2021-05-09 18:31:29.142102272 2021-05-09 18:31:29.141826048  \n",
       "442 2021-05-09 18:31:29.159868160 2021-05-09 18:31:29.159588864  \n",
       "443 2021-05-09 18:31:29.177638400 2021-05-09 18:31:29.177351680  \n",
       "444 2021-05-09 18:31:29.195393024 2021-05-09 18:31:29.195114496  \n",
       "445 2021-05-09 18:31:29.213159168 2021-05-09 18:31:29.212877824  \n",
       "\n",
       "[446 rows x 4 columns]"
      ]
     },
     "execution_count": 138,
     "metadata": {},
     "output_type": "execute_result"
    }
   ],
   "source": [
    "tss"
   ]
  },
  {
   "cell_type": "code",
   "execution_count": null,
   "metadata": {},
   "outputs": [],
   "source": []
  }
 ],
 "metadata": {
  "kernelspec": {
   "display_name": "Python 3",
   "language": "python",
   "name": "python3"
  },
  "language_info": {
   "codemirror_mode": {
    "name": "ipython",
    "version": 3
   },
   "file_extension": ".py",
   "mimetype": "text/x-python",
   "name": "python",
   "nbconvert_exporter": "python",
   "pygments_lexer": "ipython3",
   "version": "3.8.5"
  }
 },
 "nbformat": 4,
 "nbformat_minor": 4
}
