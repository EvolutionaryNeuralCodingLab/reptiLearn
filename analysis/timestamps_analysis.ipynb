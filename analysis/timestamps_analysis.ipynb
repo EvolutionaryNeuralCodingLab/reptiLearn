{
 "cells": [
  {
   "cell_type": "code",
   "execution_count": 4,
   "metadata": {},
   "outputs": [],
   "source": [
    "import os\n",
    "os.chdir(\"../system\")"
   ]
  },
  {
   "cell_type": "code",
   "execution_count": 5,
   "metadata": {},
   "outputs": [],
   "source": [
    "import pandas as pd\n",
    "import numpy as np\n",
    "import matplotlib.pyplot as plt"
   ]
  },
  {
   "cell_type": "code",
   "execution_count": 28,
   "metadata": {},
   "outputs": [],
   "source": [
    "# example of reading video timestamp csv file.\n",
    "def date_parser(epoch_ns):\n",
    "    return pd.to_datetime(epoch_ns).tz_localize(\"UTC\").tz_convert(\"Asia/Jerusalem\")\n",
    "\n",
    "\n",
    "def analyze_timestamp_csv(csv_path):\n",
    "    tdf = pd.read_csv(\n",
    "        csv_path,\n",
    "        dtype={\"timestamp\": np.long},\n",
    "        index_col=\"timestamp\",\n",
    "        parse_dates=True,\n",
    "        date_parser=date_parser,\n",
    "    )\n",
    "\n",
    "    diff_secs = tdf.index.to_series().diff() / np.timedelta64(1, 's')\n",
    "    freq = 1 / diff_secs\n",
    "    fps = freq.mean()\n",
    "    sd_fps = freq.std()\n",
    "    n = len(tdf)\n",
    "\n",
    "    return {\"n\": n, \"diff\": diff_secs, \"freq\": freq, \"mean_fps\": fps, \"sd_fps\": sd_fps, \"df\": tdf}"
   ]
  },
  {
   "cell_type": "code",
   "execution_count": 30,
   "metadata": {},
   "outputs": [],
   "source": [
    "csvs = {\n",
    "    \"20349310\": \"videos/20349310_20210222-133916.csv\",\n",
    "    \"20349302\": \"videos/20349302_20210222-133916.csv\",\n",
    "    \"0138A051\": \"videos/0138A051_20210222-133916.csv\",\n",
    "}\n",
    "\n",
    "csvs2 = {\n",
    "    \"20349310\": \"videos/20349310_20210222-160529.csv\",\n",
    "    \"20349302\": \"videos/20349302_20210222-160529.csv\",\n",
    "    \"0138A051\": \"videos/0138A051_20210222-160529.csv\",    \n",
    "}"
   ]
  },
  {
   "cell_type": "code",
   "execution_count": 31,
   "metadata": {},
   "outputs": [],
   "source": [
    "results = {k: analyze_timestamp_csv(v) for k, v in csvs.items()}"
   ]
  },
  {
   "cell_type": "code",
   "execution_count": 35,
   "metadata": {},
   "outputs": [
    {
     "data": {
      "text/plain": [
       "(array([  1114.,      0.,      0.,  79178.,      0.,      0., 100728.,\n",
       "             0.,      0.,   5450.]),\n",
       " array([0.01684282, 0.01684754, 0.01685225, 0.01685696, 0.01686168,\n",
       "        0.01686639, 0.0168711 , 0.01687582, 0.01688053, 0.01688524,\n",
       "        0.01688996]),\n",
       " <BarContainer object of 10 artists>)"
      ]
     },
     "execution_count": 35,
     "metadata": {},
     "output_type": "execute_result"
    },
    {
     "data": {
      "image/png": "[encoded data removed]",
      "text/plain": [
       "<Figure size 432x288 with 1 Axes>"
      ]
     },
     "metadata": {
      "needs_background": "light"
     },
     "output_type": "display_data"
    }
   ],
   "source": [
    "plt.hist(results[\"20349302\"][1])"
   ]
  },
  {
   "cell_type": "code",
   "execution_count": 18,
   "metadata": {},
   "outputs": [
    {
     "data": {
      "text/html": [
       "<div>\n",
       "<style scoped>\n",
       "    .dataframe tbody tr th:only-of-type {\n",
       "        vertical-align: middle;\n",
       "    }\n",
       "\n",
       "    .dataframe tbody tr th {\n",
       "        vertical-align: top;\n",
       "    }\n",
       "\n",
       "    .dataframe thead th {\n",
       "        text-align: right;\n",
       "    }\n",
       "</style>\n",
       "<table border=\"1\" class=\"dataframe\">\n",
       "  <thead>\n",
       "    <tr style=\"text-align: right;\">\n",
       "      <th></th>\n",
       "    </tr>\n",
       "    <tr>\n",
       "      <th>timestamp</th>\n",
       "    </tr>\n",
       "  </thead>\n",
       "  <tbody>\n",
       "    <tr>\n",
       "      <th>2021-02-22 13:39:16.904609112+02:00</th>\n",
       "    </tr>\n",
       "    <tr>\n",
       "      <th>2021-02-22 13:39:16.921468231+02:00</th>\n",
       "    </tr>\n",
       "    <tr>\n",
       "      <th>2021-02-22 13:39:16.938341877+02:00</th>\n",
       "    </tr>\n",
       "    <tr>\n",
       "      <th>2021-02-22 13:39:16.955215710+02:00</th>\n",
       "    </tr>\n",
       "    <tr>\n",
       "      <th>2021-02-22 13:39:16.972074822+02:00</th>\n",
       "    </tr>\n",
       "    <tr>\n",
       "      <th>...</th>\n",
       "    </tr>\n",
       "    <tr>\n",
       "      <th>2021-02-22 14:31:42.171315395+02:00</th>\n",
       "    </tr>\n",
       "    <tr>\n",
       "      <th>2021-02-22 14:31:42.188189247+02:00</th>\n",
       "    </tr>\n",
       "    <tr>\n",
       "      <th>2021-02-22 14:31:42.205049070+02:00</th>\n",
       "    </tr>\n",
       "    <tr>\n",
       "      <th>2021-02-22 14:31:42.221922002+02:00</th>\n",
       "    </tr>\n",
       "    <tr>\n",
       "      <th>2021-02-22 14:31:42.238781377+02:00</th>\n",
       "    </tr>\n",
       "  </tbody>\n",
       "</table>\n",
       "<p>186471 rows × 0 columns</p>\n",
       "</div>"
      ],
      "text/plain": [
       "Empty DataFrame\n",
       "Columns: []\n",
       "Index: [2021-02-22 13:39:16.904609112+02:00, 2021-02-22 13:39:16.921468231+02:00, 2021-02-22 13:39:16.938341877+02:00, 2021-02-22 13:39:16.955215710+02:00, 2021-02-22 13:39:16.972074822+02:00, 2021-02-22 13:39:16.988948660+02:00, 2021-02-22 13:39:17.005822368+02:00, 2021-02-22 13:39:17.022681704+02:00, 2021-02-22 13:39:17.039540595+02:00, 2021-02-22 13:39:17.056399716+02:00, 2021-02-22 13:39:17.073258566+02:00, 2021-02-22 13:39:17.090132114+02:00, 2021-02-22 13:39:17.106991654+02:00, 2021-02-22 13:39:17.123864927+02:00, 2021-02-22 13:39:17.140738683+02:00, 2021-02-22 13:39:17.157597949+02:00, 2021-02-22 13:39:17.174471460+02:00, 2021-02-22 13:39:17.191331141+02:00, 2021-02-22 13:39:17.208189733+02:00, 2021-02-22 13:39:17.225063468+02:00, 2021-02-22 13:39:17.241922710+02:00, 2021-02-22 13:39:17.258796247+02:00, 2021-02-22 13:39:17.275669958+02:00, 2021-02-22 13:39:17.292529668+02:00, 2021-02-22 13:39:17.309387983+02:00, 2021-02-22 13:39:17.326261774+02:00, 2021-02-22 13:39:17.343135581+02:00, 2021-02-22 13:39:17.359995195+02:00, 2021-02-22 13:39:17.376868293+02:00, 2021-02-22 13:39:17.393727693+02:00, 2021-02-22 13:39:17.410586785+02:00, 2021-02-22 13:39:17.427460266+02:00, 2021-02-22 13:39:17.444319804+02:00, 2021-02-22 13:39:17.461192983+02:00, 2021-02-22 13:39:17.478052174+02:00, 2021-02-22 13:39:17.494911435+02:00, 2021-02-22 13:39:17.511770229+02:00, 2021-02-22 13:39:17.528629314+02:00, 2021-02-22 13:39:17.545502779+02:00, 2021-02-22 13:39:17.562376770+02:00, 2021-02-22 13:39:17.579235877+02:00, 2021-02-22 13:39:17.596109516+02:00, 2021-02-22 13:39:17.612969102+02:00, 2021-02-22 13:39:17.629842218+02:00, 2021-02-22 13:39:17.646701716+02:00, 2021-02-22 13:39:17.663560577+02:00, 2021-02-22 13:39:17.680434183+02:00, 2021-02-22 13:39:17.697293529+02:00, 2021-02-22 13:39:17.714166802+02:00, 2021-02-22 13:39:17.731026020+02:00, 2021-02-22 13:39:17.747899604+02:00, 2021-02-22 13:39:17.764759252+02:00, 2021-02-22 13:39:17.781617743+02:00, 2021-02-22 13:39:17.798477654+02:00, 2021-02-22 13:39:17.815335939+02:00, 2021-02-22 13:39:17.832209343+02:00, 2021-02-22 13:39:17.849068777+02:00, 2021-02-22 13:39:17.865927864+02:00, 2021-02-22 13:39:17.882801243+02:00, 2021-02-22 13:39:17.899660502+02:00, 2021-02-22 13:39:17.916534029+02:00, 2021-02-22 13:39:17.933407720+02:00, 2021-02-22 13:39:17.950267237+02:00, 2021-02-22 13:39:17.967140520+02:00, 2021-02-22 13:39:17.983999966+02:00, 2021-02-22 13:39:18.000858820+02:00, 2021-02-22 13:39:18.017732516+02:00, 2021-02-22 13:39:18.034591752+02:00, 2021-02-22 13:39:18.051465252+02:00, 2021-02-22 13:39:18.068324614+02:00, 2021-02-22 13:39:18.085198035+02:00, 2021-02-22 13:39:18.102057137+02:00, 2021-02-22 13:39:18.118930835+02:00, 2021-02-22 13:39:18.135790343+02:00, 2021-02-22 13:39:18.152649368+02:00, 2021-02-22 13:39:18.169522554+02:00, 2021-02-22 13:39:18.186382029+02:00, 2021-02-22 13:39:18.203241243+02:00, 2021-02-22 13:39:18.220099812+02:00, 2021-02-22 13:39:18.236958968+02:00, 2021-02-22 13:39:18.253818589+02:00, 2021-02-22 13:39:18.270676827+02:00, 2021-02-22 13:39:18.287550474+02:00, 2021-02-22 13:39:18.304410072+02:00, 2021-02-22 13:39:18.321269656+02:00, 2021-02-22 13:39:18.338127729+02:00, 2021-02-22 13:39:18.354986868+02:00, 2021-02-22 13:39:18.371860229+02:00, 2021-02-22 13:39:18.388719497+02:00, 2021-02-22 13:39:18.405593191+02:00, 2021-02-22 13:39:18.422466879+02:00, 2021-02-22 13:39:18.439326320+02:00, 2021-02-22 13:39:18.456185220+02:00, 2021-02-22 13:39:18.473058649+02:00, 2021-02-22 13:39:18.489918010+02:00, 2021-02-22 13:39:18.506776954+02:00, 2021-02-22 13:39:18.523650552+02:00, 2021-02-22 13:39:18.540524285+02:00, 2021-02-22 13:39:18.557383487+02:00, 2021-02-22 13:39:18.574257191+02:00, ...]\n",
       "\n",
       "[186471 rows x 0 columns]"
      ]
     },
     "execution_count": 18,
     "metadata": {},
     "output_type": "execute_result"
    }
   ],
   "source": [
    "results[\"20349302\"][-1]"
   ]
  },
  {
   "cell_type": "code",
   "execution_count": 127,
   "metadata": {},
   "outputs": [],
   "source": [
    "res2 = analyze_timestamp_csv(\"videos/right_camera_20210303-204258.csv\")"
   ]
  },
  {
   "cell_type": "code",
   "execution_count": 128,
   "metadata": {},
   "outputs": [
    {
     "data": {
      "text/plain": [
       "58.51248825134123"
      ]
     },
     "execution_count": 128,
     "metadata": {},
     "output_type": "execute_result"
    }
   ],
   "source": [
    "res2[3]"
   ]
  },
  {
   "cell_type": "code",
   "execution_count": 33,
   "metadata": {},
   "outputs": [],
   "source": [
    "results2 = {k: analyze_timestamp_csv(v) for k, v in csvs2.items()}"
   ]
  },
  {
   "cell_type": "code",
   "execution_count": 34,
   "metadata": {},
   "outputs": [
    {
     "data": {
      "text/plain": [
       "[424, 143, 429]"
      ]
     },
     "execution_count": 34,
     "metadata": {},
     "output_type": "execute_result"
    }
   ],
   "source": [
    "[r[0] for r in results2.values()]"
   ]
  },
  {
   "cell_type": "code",
   "execution_count": 75,
   "metadata": {},
   "outputs": [
    {
     "data": {
      "text/plain": [
       "186471"
      ]
     },
     "execution_count": 75,
     "metadata": {},
     "output_type": "execute_result"
    }
   ],
   "source": [
    "results[\"20349302\"][0]"
   ]
  },
  {
   "cell_type": "code",
   "execution_count": 129,
   "metadata": {},
   "outputs": [
    {
     "data": {
      "text/plain": [
       "(0.017090372620117585, 8.14489163210098e-06)"
      ]
     },
     "execution_count": 129,
     "metadata": {},
     "output_type": "execute_result"
    }
   ],
   "source": [
    "res2[1].mean(), res2[1].std()"
   ]
  },
  {
   "cell_type": "code",
   "execution_count": 130,
   "metadata": {},
   "outputs": [
    {
     "data": {
      "text/plain": [
       "2505600"
      ]
     },
     "execution_count": 130,
     "metadata": {},
     "output_type": "execute_result"
    }
   ],
   "source": [
    "res2[0]"
   ]
  },
  {
   "cell_type": "code",
   "execution_count": 134,
   "metadata": {},
   "outputs": [
    {
     "data": {
      "text/plain": [
       "(array([7.342000e+03, 0.000000e+00, 9.911410e+05, 1.720000e+03,\n",
       "        3.600810e+05, 1.094492e+06, 1.062000e+03, 4.973400e+04,\n",
       "        0.000000e+00, 2.700000e+01]),\n",
       " array([0.01706312, 0.01706964, 0.01707616, 0.01708267, 0.01708919,\n",
       "        0.01709571, 0.01710223, 0.01710875, 0.01711527, 0.01712179,\n",
       "        0.01712831]),\n",
       " <BarContainer object of 10 artists>)"
      ]
     },
     "execution_count": 134,
     "metadata": {},
     "output_type": "execute_result"
    },
    {
     "data": {
      "image/png": "[encoded data removed]",
      "text/plain": [
       "<Figure size 432x288 with 1 Axes>"
      ]
     },
     "metadata": {
      "needs_background": "light"
     },
     "output_type": "display_data"
    }
   ],
   "source": [
    "plt.hist(res2[1])"
   ]
  },
  {
   "cell_type": "code",
   "execution_count": 135,
   "metadata": {},
   "outputs": [
    {
     "data": {
      "text/plain": [
       "<matplotlib.collections.PathCollection at 0x7f8cd3eef1f0>"
      ]
     },
     "execution_count": 135,
     "metadata": {},
     "output_type": "execute_result"
    },
    {
     "data": {
      "image/png": "[encoded data removed]",
      "text/plain": [
       "<Figure size 432x288 with 1 Axes>"
      ]
     },
     "metadata": {
      "needs_background": "light"
     },
     "output_type": "display_data"
    }
   ],
   "source": [
    "plt.scatter(range(10), res2[1][:10])"
   ]
  },
  {
   "cell_type": "code",
   "execution_count": 132,
   "metadata": {},
   "outputs": [
    {
     "data": {
      "text/html": [
       "<div>\n",
       "<style scoped>\n",
       "    .dataframe tbody tr th:only-of-type {\n",
       "        vertical-align: middle;\n",
       "    }\n",
       "\n",
       "    .dataframe tbody tr th {\n",
       "        vertical-align: top;\n",
       "    }\n",
       "\n",
       "    .dataframe thead th {\n",
       "        text-align: right;\n",
       "    }\n",
       "</style>\n",
       "<table border=\"1\" class=\"dataframe\">\n",
       "  <thead>\n",
       "    <tr style=\"text-align: right;\">\n",
       "      <th></th>\n",
       "    </tr>\n",
       "    <tr>\n",
       "      <th>timestamp</th>\n",
       "    </tr>\n",
       "  </thead>\n",
       "  <tbody>\n",
       "    <tr>\n",
       "      <th>2021-03-03 20:43:07.259687690+02:00</th>\n",
       "    </tr>\n",
       "    <tr>\n",
       "      <th>2021-03-03 20:43:07.276784442+02:00</th>\n",
       "    </tr>\n",
       "    <tr>\n",
       "      <th>2021-03-03 20:43:07.293865105+02:00</th>\n",
       "    </tr>\n",
       "    <tr>\n",
       "      <th>2021-03-03 20:43:07.310961617+02:00</th>\n",
       "    </tr>\n",
       "    <tr>\n",
       "      <th>2021-03-03 20:43:07.328042971+02:00</th>\n",
       "    </tr>\n",
       "  </tbody>\n",
       "</table>\n",
       "</div>"
      ],
      "text/plain": [
       "Empty DataFrame\n",
       "Columns: []\n",
       "Index: [2021-03-03 20:43:07.259687690+02:00, 2021-03-03 20:43:07.276784442+02:00, 2021-03-03 20:43:07.293865105+02:00, 2021-03-03 20:43:07.310961617+02:00, 2021-03-03 20:43:07.328042971+02:00]"
      ]
     },
     "execution_count": 132,
     "metadata": {},
     "output_type": "execute_result"
    }
   ],
   "source": [
    "res2[5].head()"
   ]
  },
  {
   "cell_type": "code",
   "execution_count": 133,
   "metadata": {},
   "outputs": [
    {
     "data": {
      "text/html": [
       "<div>\n",
       "<style scoped>\n",
       "    .dataframe tbody tr th:only-of-type {\n",
       "        vertical-align: middle;\n",
       "    }\n",
       "\n",
       "    .dataframe tbody tr th {\n",
       "        vertical-align: top;\n",
       "    }\n",
       "\n",
       "    .dataframe thead th {\n",
       "        text-align: right;\n",
       "    }\n",
       "</style>\n",
       "<table border=\"1\" class=\"dataframe\">\n",
       "  <thead>\n",
       "    <tr style=\"text-align: right;\">\n",
       "      <th></th>\n",
       "    </tr>\n",
       "    <tr>\n",
       "      <th>timestamp</th>\n",
       "    </tr>\n",
       "  </thead>\n",
       "  <tbody>\n",
       "    <tr>\n",
       "      <th>2021-03-04 08:36:48.811894886+02:00</th>\n",
       "    </tr>\n",
       "    <tr>\n",
       "      <th>2021-03-04 08:36:48.828992630+02:00</th>\n",
       "    </tr>\n",
       "    <tr>\n",
       "      <th>2021-03-04 08:36:48.846071734+02:00</th>\n",
       "    </tr>\n",
       "    <tr>\n",
       "      <th>2021-03-04 08:36:48.863153457+02:00</th>\n",
       "    </tr>\n",
       "    <tr>\n",
       "      <th>2021-03-04 08:36:48.880234284+02:00</th>\n",
       "    </tr>\n",
       "  </tbody>\n",
       "</table>\n",
       "</div>"
      ],
      "text/plain": [
       "Empty DataFrame\n",
       "Columns: []\n",
       "Index: [2021-03-04 08:36:48.811894886+02:00, 2021-03-04 08:36:48.828992630+02:00, 2021-03-04 08:36:48.846071734+02:00, 2021-03-04 08:36:48.863153457+02:00, 2021-03-04 08:36:48.880234284+02:00]"
      ]
     },
     "execution_count": 133,
     "metadata": {},
     "output_type": "execute_result"
    }
   ],
   "source": [
    "res2[5].tail()"
   ]
  },
  {
   "cell_type": "markdown",
   "metadata": {},
   "source": [
    "# Led Test"
   ]
  },
  {
   "cell_type": "code",
   "execution_count": 49,
   "metadata": {},
   "outputs": [],
   "source": [
    "csv_right = \"videos/led_test_right_camera_20210322-133051.csv\"\n",
    "csv_left = \"videos/led_test_left_camera_20210322-133051.csv\""
   ]
  },
  {
   "cell_type": "code",
   "execution_count": 29,
   "metadata": {},
   "outputs": [],
   "source": [
    "csv_right = \"videos/led_test_right_camera_20210322-133245.csv\"\n",
    "csv_left = \"videos/led_test_left_camera_20210322-133245.csv\""
   ]
  },
  {
   "cell_type": "code",
   "execution_count": 58,
   "metadata": {},
   "outputs": [],
   "source": [
    "# trigger on before rec\n",
    "csv_right = \"videos/led_test_right_camera_20210322-140542.csv\"\n",
    "csv_left = \"videos/led_test_left_camera_20210322-140542.csv\""
   ]
  },
  {
   "cell_type": "code",
   "execution_count": 77,
   "metadata": {},
   "outputs": [],
   "source": [
    "# fix trigger bug, weird delay\n",
    "csv_right = \"videos/led_test_fix_right_camera_20210322-141210.csv\"\n",
    "csv_left = \"videos/led_test_fix_left_camera_20210322-141210.csv\""
   ]
  },
  {
   "cell_type": "code",
   "execution_count": 78,
   "metadata": {},
   "outputs": [],
   "source": [
    "res_right = analyze_timestamp_csv(csv_right)\n",
    "res_left = analyze_timestamp_csv(csv_left)"
   ]
  },
  {
   "cell_type": "code",
   "execution_count": 80,
   "metadata": {},
   "outputs": [
    {
     "data": {
      "text/plain": [
       "998"
      ]
     },
     "execution_count": 80,
     "metadata": {},
     "output_type": "execute_result"
    }
   ],
   "source": [
    "res_right[\"n\"]"
   ]
  },
  {
   "cell_type": "code",
   "execution_count": 69,
   "metadata": {},
   "outputs": [
    {
     "data": {
      "text/plain": [
       "998"
      ]
     },
     "execution_count": 69,
     "metadata": {},
     "output_type": "execute_result"
    }
   ],
   "source": [
    "res_left[\"n\"]"
   ]
  },
  {
   "cell_type": "code",
   "execution_count": 70,
   "metadata": {},
   "outputs": [
    {
     "name": "stderr",
     "output_type": "stream",
     "text": [
      "<ipython-input-70-ddb7dba30158>:1: DeprecationWarning: parsing timezone aware datetimes is deprecated; this will raise an error in the future\n",
      "  np_left = np.array(res_left[\"df\"].index.to_pydatetime(), dtype=np.datetime64)\n",
      "<ipython-input-70-ddb7dba30158>:2: DeprecationWarning: parsing timezone aware datetimes is deprecated; this will raise an error in the future\n",
      "  np_right = np.array(res_right[\"df\"].index.to_pydatetime(), dtype=np.datetime64)\n"
     ]
    }
   ],
   "source": [
    "np_left = np.array(res_left[\"df\"].index.to_pydatetime(), dtype=np.datetime64)\n",
    "np_right = np.array(res_right[\"df\"].index.to_pydatetime(), dtype=np.datetime64)"
   ]
  },
  {
   "cell_type": "code",
   "execution_count": 71,
   "metadata": {},
   "outputs": [],
   "source": [
    "diff_left = res_left[\"diff\"].values\n",
    "diff_right = res_right[\"diff\"].values"
   ]
  },
  {
   "cell_type": "code",
   "execution_count": 72,
   "metadata": {},
   "outputs": [
    {
     "data": {
      "text/plain": [
       "[<matplotlib.lines.Line2D at 0x7f956636ed30>]"
      ]
     },
     "execution_count": 72,
     "metadata": {},
     "output_type": "execute_result"
    },
    {
     "data": {
      "image/png": "[encoded data removed]",
      "text/plain": [
       "<Figure size 432x288 with 1 Axes>"
      ]
     },
     "metadata": {
      "needs_background": "light"
     },
     "output_type": "display_data"
    }
   ],
   "source": [
    "plt.plot(diff_left[:-1])\n",
    "plt.plot(diff_right[:-1])"
   ]
  },
  {
   "cell_type": "code",
   "execution_count": 81,
   "metadata": {},
   "outputs": [
    {
     "data": {
      "text/plain": [
       "Timestamp('2021-03-22 14:12:24.333820125+0200', tz='Asia/Jerusalem')"
      ]
     },
     "execution_count": 81,
     "metadata": {},
     "output_type": "execute_result"
    }
   ],
   "source": [
    "res_right[\"df\"].index[657]"
   ]
  },
  {
   "cell_type": "code",
   "execution_count": 82,
   "metadata": {},
   "outputs": [
    {
     "data": {
      "text/plain": [
       "Timestamp('2021-03-22 14:12:24.333597284+0200', tz='Asia/Jerusalem')"
      ]
     },
     "execution_count": 82,
     "metadata": {},
     "output_type": "execute_result"
    }
   ],
   "source": [
    "res_left[\"df\"].index[657]"
   ]
  },
  {
   "cell_type": "code",
   "execution_count": null,
   "metadata": {},
   "outputs": [],
   "source": []
  }
 ],
 "metadata": {
  "kernelspec": {
   "display_name": "Python 3",
   "language": "python",
   "name": "python3"
  },
  "language_info": {
   "codemirror_mode": {
    "name": "ipython",
    "version": 3
   },
   "file_extension": ".py",
   "mimetype": "text/x-python",
   "name": "python",
   "nbconvert_exporter": "python",
   "pygments_lexer": "ipython3",
   "version": "3.8.5"
  }
 },
 "nbformat": 4,
 "nbformat_minor": 4
}
