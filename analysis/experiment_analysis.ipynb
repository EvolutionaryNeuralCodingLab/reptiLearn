{
 "cells": [
  {
   "cell_type": "markdown",
   "metadata": {},
   "source": [
    "# Experiment Data"
   ]
  },
  {
   "cell_type": "code",
   "execution_count": 163,
   "metadata": {},
   "outputs": [],
   "source": [
    "from pathlib import Path\n",
    "import pandas as pd\n",
    "import numpy as np\n",
    "import re\n",
    "import pprint as pp"
   ]
  },
  {
   "cell_type": "code",
   "execution_count": 6,
   "metadata": {},
   "outputs": [],
   "source": [
    "config, _ = load_module(Path(\"../system/config/config.py\"))"
   ]
  },
  {
   "cell_type": "code",
   "execution_count": 4,
   "metadata": {},
   "outputs": [],
   "source": [
    "def load_module(path: Path, package=None):\n",
    "    name = package + \".\" + path.stem if package else path.stem\n",
    "    spec = importlib.util.spec_from_file_location(name, path)\n",
    "    module = importlib.util.module_from_spec(spec)\n",
    "    spec.loader.exec_module(module)\n",
    "    return module, spec   "
   ]
  },
  {
   "cell_type": "code",
   "execution_count": 115,
   "metadata": {},
   "outputs": [],
   "source": [
    "def split_filename(exp_dir):\n",
    "    match = re.search('(.*)_([0-9]*)[-_]([0-9]*)', exp_dir.stem)\n",
    "    dt = pd.to_datetime(match.group(2) + \" \" + match.group(3), format=\"%Y%m%d %H%M%S\")\n",
    "    name = match.group(1)\n",
    "    return name, dt"
   ]
  },
  {
   "cell_type": "code",
   "execution_count": 118,
   "metadata": {},
   "outputs": [],
   "source": [
    "def list_experiments():\n",
    "    exp_dirs = list(filter(lambda p: p.is_dir(), config.experiment_data_root.glob(\"*\")))\n",
    "    dts = []\n",
    "    names = []\n",
    "    for exp_dir in exp_dirs:\n",
    "        name, dt = split_filename(exp_dir)\n",
    "        dts.append(dt)\n",
    "        names.append(name)\n",
    "\n",
    "    df = pd.DataFrame(columns=[\"name\", \"dir\"], index=dts)\n",
    "    df.name = names\n",
    "    df.dir = exp_dirs\n",
    "    return df.sort_index()\n"
   ]
  },
  {
   "cell_type": "code",
   "execution_count": 96,
   "metadata": {},
   "outputs": [],
   "source": [
    "def experiment_stats(exp_dir):\n",
    "    exp_path = Path(exp_dir)\n",
    "    video_files = list(exp_path.glob(\"*.mp4\")) + list(exp_path.glob(\"*.avi\"))\n",
    "    image_files = list(exp_path.glob(\"*.png\")) + list(exp_path.glob(\"*.jpg\"))\n",
    "    csv_files = list(exp_path.glob(\"*.csv\"))\n",
    "    \n",
    "    return {\n",
    "        \"video_count\": len(list(video_files)),\n",
    "        \"image_count\": len(list(image_files)),\n",
    "        \"csv_count\": len(list(csv_files)),\n",
    "    }\n",
    "\n",
    "def all_experiment_stats(exps):\n",
    "    df = pd.DataFrame(columns=[\"video_count\", \"image_count\", \"csv_count\"])\n",
    "    vids = []\n",
    "    imgs = []\n",
    "    csvs = []\n",
    "    \n",
    "    for exp_dir in exps.dir:\n",
    "        stats = experiment_stats(exp_dir)\n",
    "        vids.append(stats[\"video_count\"])\n",
    "        imgs.append(stats[\"image_count\"])\n",
    "        csvs.append(stats[\"csv_count\"])\n",
    "    df.video_count = vids\n",
    "    df.image_count = imgs\n",
    "    df.csv_count = csvs\n",
    "    \n",
    "    return df"
   ]
  },
  {
   "cell_type": "code",
   "execution_count": 119,
   "metadata": {},
   "outputs": [],
   "source": [
    "exps = list_experiments()"
   ]
  },
  {
   "cell_type": "code",
   "execution_count": 120,
   "metadata": {},
   "outputs": [],
   "source": [
    "pd.set_option('display.max_rows', 500)\n",
    "index = exps.index\n",
    "exps = pd.concat([exps.reset_index(drop=True), all_experiment_stats(exps)], axis=1)\n",
    "exps.index = index"
   ]
  },
  {
   "cell_type": "code",
   "execution_count": 123,
   "metadata": {},
   "outputs": [
    {
     "data": {
      "text/html": [
       "<div>\n",
       "<style scoped>\n",
       "    .dataframe tbody tr th:only-of-type {\n",
       "        vertical-align: middle;\n",
       "    }\n",
       "\n",
       "    .dataframe tbody tr th {\n",
       "        vertical-align: top;\n",
       "    }\n",
       "\n",
       "    .dataframe thead th {\n",
       "        text-align: right;\n",
       "    }\n",
       "</style>\n",
       "<table border=\"1\" class=\"dataframe\">\n",
       "  <thead>\n",
       "    <tr style=\"text-align: right;\">\n",
       "      <th></th>\n",
       "      <th>name</th>\n",
       "      <th>dir</th>\n",
       "      <th>video_count</th>\n",
       "      <th>image_count</th>\n",
       "      <th>csv_count</th>\n",
       "    </tr>\n",
       "  </thead>\n",
       "  <tbody>\n",
       "    <tr>\n",
       "      <th>2021-03-21 20:14:05</th>\n",
       "      <td>yolo_test</td>\n",
       "      <td>/data/reptilearn/experiments/yolo_test_2021032...</td>\n",
       "      <td>0</td>\n",
       "      <td>0</td>\n",
       "      <td>0</td>\n",
       "    </tr>\n",
       "    <tr>\n",
       "      <th>2021-03-21 20:15:54</th>\n",
       "      <td>yolo_test</td>\n",
       "      <td>/data/reptilearn/experiments/yolo_test_2021032...</td>\n",
       "      <td>0</td>\n",
       "      <td>0</td>\n",
       "      <td>0</td>\n",
       "    </tr>\n",
       "    <tr>\n",
       "      <th>2021-03-21 20:16:36</th>\n",
       "      <td>yolo_test</td>\n",
       "      <td>/data/reptilearn/experiments/yolo_test_2021032...</td>\n",
       "      <td>0</td>\n",
       "      <td>0</td>\n",
       "      <td>0</td>\n",
       "    </tr>\n",
       "    <tr>\n",
       "      <th>2021-03-21 20:32:14</th>\n",
       "      <td>test_exp</td>\n",
       "      <td>/data/reptilearn/experiments/test_exp_20210321...</td>\n",
       "      <td>0</td>\n",
       "      <td>0</td>\n",
       "      <td>0</td>\n",
       "    </tr>\n",
       "    <tr>\n",
       "      <th>2021-03-21 20:52:32</th>\n",
       "      <td>test_exp</td>\n",
       "      <td>/data/reptilearn/experiments/test_exp_20210321...</td>\n",
       "      <td>0</td>\n",
       "      <td>0</td>\n",
       "      <td>0</td>\n",
       "    </tr>\n",
       "  </tbody>\n",
       "</table>\n",
       "</div>"
      ],
      "text/plain": [
       "                          name  \\\n",
       "2021-03-21 20:14:05  yolo_test   \n",
       "2021-03-21 20:15:54  yolo_test   \n",
       "2021-03-21 20:16:36  yolo_test   \n",
       "2021-03-21 20:32:14   test_exp   \n",
       "2021-03-21 20:52:32   test_exp   \n",
       "\n",
       "                                                                   dir  \\\n",
       "2021-03-21 20:14:05  /data/reptilearn/experiments/yolo_test_2021032...   \n",
       "2021-03-21 20:15:54  /data/reptilearn/experiments/yolo_test_2021032...   \n",
       "2021-03-21 20:16:36  /data/reptilearn/experiments/yolo_test_2021032...   \n",
       "2021-03-21 20:32:14  /data/reptilearn/experiments/test_exp_20210321...   \n",
       "2021-03-21 20:52:32  /data/reptilearn/experiments/test_exp_20210321...   \n",
       "\n",
       "                     video_count  image_count  csv_count  \n",
       "2021-03-21 20:14:05            0            0          0  \n",
       "2021-03-21 20:15:54            0            0          0  \n",
       "2021-03-21 20:16:36            0            0          0  \n",
       "2021-03-21 20:32:14            0            0          0  \n",
       "2021-03-21 20:52:32            0            0          0  "
      ]
     },
     "execution_count": 123,
     "metadata": {},
     "output_type": "execute_result"
    }
   ],
   "source": [
    "exps.head()"
   ]
  },
  {
   "cell_type": "code",
   "execution_count": 201,
   "metadata": {},
   "outputs": [],
   "source": [
    "def experiment_info(exp_dir):\n",
    "    exp_dir = Path(exp_dir)\n",
    "    info = {}\n",
    "    \n",
    "    ts_paths = []\n",
    "    videos = list(exp_dir.glob(\"*.mp4\")) + list(exp_dir.glob(\"*.avi\"))\n",
    "    info[\"videos\"] = {}\n",
    "    for vid_path in videos:\n",
    "        name, dt = split_filename(vid_path)\n",
    "        ts_path = exp_dir / (vid_path.stem + \".csv\")\n",
    "        if not ts_path.exists():\n",
    "            ts_path = None\n",
    "            duration = None\n",
    "        else:\n",
    "            ts_paths.append(ts_path)\n",
    "\n",
    "            tdf = pd.read_csv(ts_path, parse_dates=True)\n",
    "            duration = ((tdf.iloc[-1, 0] - tdf.iloc[0, 0]) * 1e09).astype('timedelta64[ns]')\n",
    "            \n",
    "        info[\"videos\"][(name, dt)] = {\n",
    "            \"path\": vid_path,\n",
    "            \"timestamps\": ts_path,\n",
    "            \"frame_count\": tdf.shape[0],\n",
    "            \"duration\": duration,\n",
    "        }\n",
    "    info[\"csvs\"] = list(filter(lambda p: p not in ts_paths, exp_dir.glob(\"*.csv\")))\n",
    "    info[\"images\"] = list(exp_dir.glob(\"*.jpg\")) + list(exp_dir.glob(\"*.png\"))\n",
    "    \n",
    "    return info\n",
    "    "
   ]
  },
  {
   "cell_type": "code",
   "execution_count": 202,
   "metadata": {},
   "outputs": [
    {
     "name": "stdout",
     "output_type": "stream",
     "text": [
      "{'csvs': [PosixPath('/data/reptilearn/experiments/learn_exp_t11fixmqtt_20210511-141240/learn_data.csv'),\n",
      "          PosixPath('/data/reptilearn/experiments/learn_exp_t11fixmqtt_20210511-141240/events.csv')],\n",
      " 'images': [],\n",
      " 'videos': {('back', Timestamp('2021-05-11 14:12:41')): {'duration': numpy.timedelta64(6703808027982,'ns'),\n",
      "                                                         'frame_count': 348792,\n",
      "                                                         'path': PosixPath('/data/reptilearn/experiments/learn_exp_t11fixmqtt_20210511-141240/back_20210511-141241.mp4'),\n",
      "                                                         'timestamps': PosixPath('/data/reptilearn/experiments/learn_exp_t11fixmqtt_20210511-141240/back_20210511-141241.csv')},\n",
      "            ('left', Timestamp('2021-05-11 14:12:41')): {'duration': numpy.timedelta64(6703805832624,'ns'),\n",
      "                                                         'frame_count': 349233,\n",
      "                                                         'path': PosixPath('/data/reptilearn/experiments/learn_exp_t11fixmqtt_20210511-141240/left_20210511-141241.mp4'),\n",
      "                                                         'timestamps': PosixPath('/data/reptilearn/experiments/learn_exp_t11fixmqtt_20210511-141240/left_20210511-141241.csv')},\n",
      "            ('right', Timestamp('2021-05-11 14:12:41')): {'duration': numpy.timedelta64(6703823274850,'ns'),\n",
      "                                                          'frame_count': 349047,\n",
      "                                                          'path': PosixPath('/data/reptilearn/experiments/learn_exp_t11fixmqtt_20210511-141240/right_20210511-141241.mp4'),\n",
      "                                                          'timestamps': PosixPath('/data/reptilearn/experiments/learn_exp_t11fixmqtt_20210511-141240/right_20210511-141241.csv')},\n",
      "            ('top', Timestamp('2021-05-11 14:12:41')): {'duration': numpy.timedelta64(6702811981916,'ns'),\n",
      "                                                        'frame_count': 336442,\n",
      "                                                        'path': PosixPath('/data/reptilearn/experiments/learn_exp_t11fixmqtt_20210511-141240/top_20210511-141241.mp4'),\n",
      "                                                        'timestamps': PosixPath('/data/reptilearn/experiments/learn_exp_t11fixmqtt_20210511-141240/top_20210511-141241.csv')}}}\n"
     ]
    }
   ],
   "source": [
    "exp = exps[exps.video_count == 4].dir[-10]\n",
    "info = experiment_info(exp)\n",
    "pp.pprint(info)"
   ]
  },
  {
   "cell_type": "code",
   "execution_count": 144,
   "metadata": {},
   "outputs": [
    {
     "data": {
      "text/html": [
       "<div>\n",
       "<style scoped>\n",
       "    .dataframe tbody tr th:only-of-type {\n",
       "        vertical-align: middle;\n",
       "    }\n",
       "\n",
       "    .dataframe tbody tr th {\n",
       "        vertical-align: top;\n",
       "    }\n",
       "\n",
       "    .dataframe thead th {\n",
       "        text-align: right;\n",
       "    }\n",
       "</style>\n",
       "<table border=\"1\" class=\"dataframe\">\n",
       "  <thead>\n",
       "    <tr style=\"text-align: right;\">\n",
       "      <th></th>\n",
       "      <th>time</th>\n",
       "      <th>x1</th>\n",
       "      <th>y1</th>\n",
       "      <th>x2</th>\n",
       "      <th>y2</th>\n",
       "      <th>confidence</th>\n",
       "    </tr>\n",
       "  </thead>\n",
       "  <tbody>\n",
       "  </tbody>\n",
       "</table>\n",
       "</div>"
      ],
      "text/plain": [
       "Empty DataFrame\n",
       "Columns: [time, x1, y1, x2, y2, confidence]\n",
       "Index: []"
      ]
     },
     "execution_count": 144,
     "metadata": {},
     "output_type": "execute_result"
    }
   ],
   "source": [
    "pd.read_csv(info[\"csvs\"][1])"
   ]
  },
  {
   "cell_type": "code",
   "execution_count": 203,
   "metadata": {},
   "outputs": [
    {
     "name": "stdout",
     "output_type": "stream",
     "text": [
      "{'csvs': [PosixPath('/data/reptilearn/experiments/nightly_20210511-204555/learn_data.csv'),\n",
      "          PosixPath('/data/reptilearn/experiments/nightly_20210511-204555/head_bbox.csv'),\n",
      "          PosixPath('/data/reptilearn/experiments/nightly_20210511-204555/events.csv')],\n",
      " 'images': [],\n",
      " 'videos': {('back', Timestamp('2021-05-11 20:45:55')): {'duration': numpy.timedelta64(1223818696022,'ns'),\n",
      "                                                         'frame_count': 62930,\n",
      "                                                         'path': PosixPath('/data/reptilearn/experiments/nightly_20210511-204555/back_20210511-204555.mp4'),\n",
      "                                                         'timestamps': PosixPath('/data/reptilearn/experiments/nightly_20210511-204555/back_20210511-204555.csv')},\n",
      "            ('back', Timestamp('2021-05-12 04:21:57')): {'duration': numpy.timedelta64(21683130214691,'ns'),\n",
      "                                                         'frame_count': 1166906,\n",
      "                                                         'path': PosixPath('/data/reptilearn/experiments/nightly_20210511-204555/back_20210512-042157.mp4'),\n",
      "                                                         'timestamps': PosixPath('/data/reptilearn/experiments/nightly_20210511-204555/back_20210512-042157.csv')},\n",
      "            ('left', Timestamp('2021-05-11 20:45:55')): {'duration': numpy.timedelta64(1223818291902,'ns'),\n",
      "                                                         'frame_count': 62059,\n",
      "                                                         'path': PosixPath('/data/reptilearn/experiments/nightly_20210511-204555/left_20210511-204555.mp4'),\n",
      "                                                         'timestamps': PosixPath('/data/reptilearn/experiments/nightly_20210511-204555/left_20210511-204555.csv')},\n",
      "            ('left', Timestamp('2021-05-12 04:21:57')): {'duration': numpy.timedelta64(21683130816221,'ns'),\n",
      "                                                         'frame_count': 1141131,\n",
      "                                                         'path': PosixPath('/data/reptilearn/experiments/nightly_20210511-204555/left_20210512-042157.mp4'),\n",
      "                                                         'timestamps': PosixPath('/data/reptilearn/experiments/nightly_20210511-204555/left_20210512-042157.csv')},\n",
      "            ('right', Timestamp('2021-05-11 20:45:55')): {'duration': numpy.timedelta64(1223823259353,'ns'),\n",
      "                                                          'frame_count': 62881,\n",
      "                                                          'path': PosixPath('/data/reptilearn/experiments/nightly_20210511-204555/right_20210511-204555.mp4'),\n",
      "                                                          'timestamps': PosixPath('/data/reptilearn/experiments/nightly_20210511-204555/right_20210511-204555.csv')},\n",
      "            ('right', Timestamp('2021-05-12 04:21:57')): {'duration': numpy.timedelta64(21683105721235,'ns'),\n",
      "                                                          'frame_count': 1155002,\n",
      "                                                          'path': PosixPath('/data/reptilearn/experiments/nightly_20210511-204555/right_20210512-042157.mp4'),\n",
      "                                                          'timestamps': PosixPath('/data/reptilearn/experiments/nightly_20210511-204555/right_20210512-042157.csv')},\n",
      "            ('top', Timestamp('2021-05-11 20:45:55')): {'duration': numpy.timedelta64(1223806866168,'ns'),\n",
      "                                                        'frame_count': 60799,\n",
      "                                                        'path': PosixPath('/data/reptilearn/experiments/nightly_20210511-204555/top_20210511-204555.mp4'),\n",
      "                                                        'timestamps': PosixPath('/data/reptilearn/experiments/nightly_20210511-204555/top_20210511-204555.csv')},\n",
      "            ('top', Timestamp('2021-05-12 04:21:57')): {'duration': numpy.timedelta64(21683186613559,'ns'),\n",
      "                                                        'frame_count': 1116377,\n",
      "                                                        'path': PosixPath('/data/reptilearn/experiments/nightly_20210511-204555/top_20210512-042157.mp4'),\n",
      "                                                        'timestamps': PosixPath('/data/reptilearn/experiments/nightly_20210511-204555/top_20210512-042157.csv')}}}\n"
     ]
    }
   ],
   "source": [
    "trials0511 = exps[\"2021-5-11\" :]\n",
    "info = experiment_info(trials0511[trials0511.name == \"nightly\"].dir[0])\n",
    "pp.pprint(info)"
   ]
  },
  {
   "cell_type": "code",
   "execution_count": 167,
   "metadata": {},
   "outputs": [],
   "source": [
    "tdf = pd.read_csv(info[\"videos\"][\"top\"][\"timestamps\"], parse_dates=True)\n",
    "delta = (tdf.iloc[-1, 0] - tdf.iloc[0, 0]) * np.timedelta64(1, 's')"
   ]
  },
  {
   "cell_type": "code",
   "execution_count": 173,
   "metadata": {},
   "outputs": [
    {
     "data": {
      "text/plain": [
       "0.3397222222222222"
      ]
     },
     "execution_count": 173,
     "metadata": {},
     "output_type": "execute_result"
    }
   ],
   "source": [
    "delta / np.timedelta64(1, 'h')"
   ]
  },
  {
   "cell_type": "code",
   "execution_count": 185,
   "metadata": {},
   "outputs": [
    {
     "ename": "ValueError",
     "evalue": "Could not convert object to NumPy timedelta",
     "output_type": "error",
     "traceback": [
      "\u001b[0;31m---------------------------------------------------------------------------\u001b[0m",
      "\u001b[0;31mValueError\u001b[0m                                Traceback (most recent call last)",
      "\u001b[0;32m<ipython-input-185-3cead464f2ef>\u001b[0m in \u001b[0;36m<module>\u001b[0;34m\u001b[0m\n\u001b[0;32m----> 1\u001b[0;31m \u001b[0mnp\u001b[0m\u001b[0;34m.\u001b[0m\u001b[0mtimedelta64\u001b[0m\u001b[0;34m(\u001b[0m\u001b[0mtdf\u001b[0m\u001b[0;34m.\u001b[0m\u001b[0miloc\u001b[0m\u001b[0;34m[\u001b[0m\u001b[0;36m0\u001b[0m\u001b[0;34m,\u001b[0m\u001b[0;36m0\u001b[0m\u001b[0;34m]\u001b[0m\u001b[0;34m,\u001b[0m \u001b[0;34m\"s\"\u001b[0m\u001b[0;34m)\u001b[0m\u001b[0;34m\u001b[0m\u001b[0;34m\u001b[0m\u001b[0m\n\u001b[0m",
      "\u001b[0;31mValueError\u001b[0m: Could not convert object to NumPy timedelta"
     ]
    }
   ],
   "source": [
    "np.timedelta64(tdf.iloc[0,0], \"s\")"
   ]
  },
  {
   "cell_type": "code",
   "execution_count": 194,
   "metadata": {},
   "outputs": [],
   "source": [
    "d = ((tdf.iloc[-1, 0] - tdf.iloc[0,0]) * 1e09).astype('timedelta64[ns]')"
   ]
  },
  {
   "cell_type": "code",
   "execution_count": 197,
   "metadata": {},
   "outputs": [
    {
     "data": {
      "text/plain": [
       "numpy.timedelta64(20,'m')"
      ]
     },
     "execution_count": 197,
     "metadata": {},
     "output_type": "execute_result"
    }
   ],
   "source": [
    "d.astype('timedelta64[m]')"
   ]
  },
  {
   "cell_type": "code",
   "execution_count": null,
   "metadata": {},
   "outputs": [],
   "source": []
  }
 ],
 "metadata": {
  "kernelspec": {
   "display_name": "Python 3",
   "language": "python",
   "name": "python3"
  },
  "language_info": {
   "codemirror_mode": {
    "name": "ipython",
    "version": 3
   },
   "file_extension": ".py",
   "mimetype": "text/x-python",
   "name": "python",
   "nbconvert_exporter": "python",
   "pygments_lexer": "ipython3",
   "version": "3.8.5"
  }
 },
 "nbformat": 4,
 "nbformat_minor": 4
}
